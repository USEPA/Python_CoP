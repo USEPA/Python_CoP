{
 "cells": [
  {
   "cell_type": "markdown",
   "metadata": {},
   "source": [
    "# Running R from Python with rpy2\n",
    "\n",
    "`rpy2` runs a real R session \"in the back room\", and moves data back and forth between the foreground Python application and the R session in various ways.\n",
    "\n",
    "You can send text directly to the R session to be evaluated.  You can also access \"wrapper\" objects which pull R data into Python space, and pass data from Python into R."
   ]
  },
  {
   "cell_type": "markdown",
   "metadata": {},
   "source": [
    "## Installation\n",
    "\n",
    "### Using R with (Ana)conda\n",
    "\n",
    "Setting up Jupyter **Lab** in Windows.  Installing conda package `rpy2` **installs R in the conda environment**.\n",
    "\n",
    "```shell\n",
    "conda create -c conda-forge -n Renv rpy2 jupyterlab nodejs matplotlib pandas==0.23.4 ipympl geopandas fiona descartes\n",
    "```\n",
    "https://github.com/theislab/single-cell-tutorial/issues/7#issuecomment-458953080 for 0.23.4 issue, can't eval a dataframe from R\n",
    "\n",
    "You only need the rpy2 package to access R, the rest are packages related to running Python in Jupyter labs, and handling spatial data in Python.\n",
    "\n",
    "```shell\n",
    "pip uninstall pyzmq\n",
    "pip install pyzmq  # seemed necessary to get Jupyter lab working\n",
    "# keep Jeff happy\n",
    "```\n",
    "\n",
    "```shell\n",
    "# for inline plots, not really relevant to R, takes a while\n",
    "jupyter labextension install @jupyter-widgets/jupyterlab-manager\n",
    "jupyter labextension install jupyter-matplotlib\n",
    "```\n",
    "\n",
    "### Using existing R\n",
    "\n",
    "Do you really need it?  See pets vs. cattle meme.\n",
    "\n",
    "conda installs R when you install rpy2.  So install rpy2 with either\n",
    "```shell\n",
    "pip install rpy2\n",
    "```\n",
    "but this fails on Windows, or\n",
    "```shell\n",
    "conda install -c conda-forge rpy2 --no-deps\n",
    "```\n",
    "\n",
    "Then modify your PATH to include your R, e.g.\n",
    "```shell\n",
    "set PATH=\"C:\\Program Files\\R\\R-3.4.3\\bin\\x64\";%PATH%\n",
    "```\n",
    "\n",
    "but this seems to be inoperable, at least in windows:\n",
    "```python\n",
    "from rpy2 import robjects\n",
    "```\n",
    "fails, even though R runs when invoked from the command line.  Probably easier in Linux.\n",
    "\n",
    "## Communicating with R"
   ]
  },
  {
   "cell_type": "code",
   "execution_count": 1,
   "metadata": {},
   "outputs": [
    {
     "data": {
      "text/html": [
       "\n",
       "    <span>StrVector with 10 elements.</span>\n",
       "    <table>\n",
       "      <tbody>\n",
       "      <tr>\n",
       "      \n",
       "      <td>\n",
       "        'spsurvey'\n",
       "      </td>\n",
       "      \n",
       "      <td>\n",
       "        'sp'\n",
       "      </td>\n",
       "      \n",
       "      <td>\n",
       "        'tools'\n",
       "      </td>\n",
       "      \n",
       "      <td>\n",
       "        'stats'\n",
       "      </td>\n",
       "      \n",
       "      <td>\n",
       "        ...\n",
       "      </td>\n",
       "      \n",
       "      <td>\n",
       "        'utils'\n",
       "      </td>\n",
       "      \n",
       "      <td>\n",
       "        'datasets'\n",
       "      </td>\n",
       "      \n",
       "      <td>\n",
       "        'methods'\n",
       "      </td>\n",
       "      \n",
       "      <td>\n",
       "        'base'\n",
       "      </td>\n",
       "      \n",
       "      </tr>\n",
       "      </tbody>\n",
       "    </table>\n",
       "    "
      ],
      "text/plain": [
       "R object with classes: ('character',) mapped to:\n",
       "<StrVector - Python:0x0000023C7DEE9908 / R:0x0000023C077BD718>\n",
       "['spsurvey', 'sp', 'tools', 'stats', ..., 'utils', 'datasets', 'methods', 'base']"
      ]
     },
     "execution_count": 1,
     "metadata": {},
     "output_type": "execute_result"
    }
   ],
   "source": [
    "# Simply send text to R\n",
    "import rpy2\n",
    "from rpy2 import robjects  # doing this initializes the R session\n",
    "R = robjects.r\n",
    "# R(\"install.packages(c('ggplot2', 'spsurvey'))\")\n",
    "# R windows for selecting mirror and downloading progress pop up\n",
    "R(\"library('spsurvey')\")"
   ]
  },
  {
   "cell_type": "code",
   "execution_count": 2,
   "metadata": {},
   "outputs": [
    {
     "name": "stdout",
     "output_type": "stream",
     "text": [
      "ggplot2 already installed\n",
      "spsurvey already installed\n"
     ]
    }
   ],
   "source": [
    "# Or, if you wanted to manipulate R package installation with Python\n",
    "import rpy2.robjects.packages as rpackages  # access R packages\n",
    "utils = rpackages.importr('utils')\n",
    "utils.chooseCRANmirror(ind=1) # select the first mirror in the list\n",
    "required = ['ggplot2', 'spsurvey']  # a Python variable (list)\n",
    "for req in required:\n",
    "    if not rpackages.isinstalled(req):\n",
    "        print(\"Installing %s\" % req)\n",
    "        utils.install_packages(req)\n",
    "    else:\n",
    "        print(\"%s already installed\" % req)\n",
    "# this seems convoluted, but installs packages only if needed, so it's quick,\n",
    "# and keeps everything on the Python side, without worrying about new environments.\n",
    "for req in required:\n",
    "    R.library(req)"
   ]
  },
  {
   "cell_type": "markdown",
   "metadata": {},
   "source": [
    "**Note:** `R...install.packages...` but `utils.install_packages` - `_` not `.` in Python."
   ]
  },
  {
   "cell_type": "code",
   "execution_count": 3,
   "metadata": {},
   "outputs": [],
   "source": [
    "# setup automatic pandas <-> R dataframe conversions\n",
    "from rpy2.robjects import pandas2ri\n",
    "pandas2ri.activate()"
   ]
  },
  {
   "cell_type": "code",
   "execution_count": 4,
   "metadata": {},
   "outputs": [],
   "source": [
    "import numpy as np\n",
    "import os\n",
    "R.setwd(\"u:/repo/PyR\")\n",
    "os.chdir(\"u:/repo/PyR\")"
   ]
  },
  {
   "cell_type": "markdown",
   "metadata": {},
   "source": [
    "## Simple operations\n",
    "\n",
    "Execute text directly in R session"
   ]
  },
  {
   "cell_type": "code",
   "execution_count": 5,
   "metadata": {},
   "outputs": [
    {
     "data": {
      "text/plain": [
       "array([4.])"
      ]
     },
     "execution_count": 5,
     "metadata": {},
     "output_type": "execute_result"
    }
   ],
   "source": [
    "R(\"2 + 2\")"
   ]
  },
  {
   "cell_type": "markdown",
   "metadata": {},
   "source": [
    "Python array sum"
   ]
  },
  {
   "cell_type": "code",
   "execution_count": 6,
   "metadata": {},
   "outputs": [
    {
     "data": {
      "text/plain": [
       "6"
      ]
     },
     "execution_count": 6,
     "metadata": {},
     "output_type": "execute_result"
    }
   ],
   "source": [
    "a = np.array((1, 2, 3))\n",
    "a.sum()"
   ]
  },
  {
   "cell_type": "markdown",
   "metadata": {},
   "source": [
    "Pass into R with automatic conversion, but no conversion on the way out"
   ]
  },
  {
   "cell_type": "code",
   "execution_count": 7,
   "metadata": {},
   "outputs": [
    {
     "data": {
      "text/html": [
       "\n",
       "    <span>IntVector with 1 elements.</span>\n",
       "    <table>\n",
       "      <tbody>\n",
       "      <tr>\n",
       "      \n",
       "      <td>\n",
       "        6\n",
       "      </td>\n",
       "      \n",
       "      </tr>\n",
       "      </tbody>\n",
       "    </table>\n",
       "    "
      ],
      "text/plain": [
       "R object with classes: ('integer',) mapped to:\n",
       "<IntVector - Python:0x0000023C0CEAA048 / R:0x0000023C07D69B38>\n",
       "[6]"
      ]
     },
     "execution_count": 7,
     "metadata": {},
     "output_type": "execute_result"
    }
   ],
   "source": [
    "R.sum(a)"
   ]
  },
  {
   "cell_type": "markdown",
   "metadata": {},
   "source": [
    "Copy data into R session first, then compute in R session, with automatic conversion of result"
   ]
  },
  {
   "cell_type": "code",
   "execution_count": 8,
   "metadata": {},
   "outputs": [
    {
     "data": {
      "text/plain": [
       "array([6], dtype=int32)"
      ]
     },
     "execution_count": 8,
     "metadata": {},
     "output_type": "execute_result"
    }
   ],
   "source": [
    "R.assign('a', a)\n",
    "R(\"sum(a)\")"
   ]
  },
  {
   "cell_type": "markdown",
   "metadata": {},
   "source": [
    "Get a variable created in the R session"
   ]
  },
  {
   "cell_type": "code",
   "execution_count": 9,
   "metadata": {},
   "outputs": [
    {
     "data": {
      "text/plain": [
       "array([[1, 1],\n",
       "       [2, 2],\n",
       "       [3, 3]], dtype=int32)"
      ]
     },
     "execution_count": 9,
     "metadata": {},
     "output_type": "execute_result"
    }
   ],
   "source": [
    "R(\"b = cbind(a, a)\")\n",
    "bee = R['b']\n",
    "bee"
   ]
  },
  {
   "cell_type": "markdown",
   "metadata": {},
   "source": [
    "## Exchanging data frames"
   ]
  },
  {
   "cell_type": "code",
   "execution_count": 10,
   "metadata": {},
   "outputs": [
    {
     "name": "stderr",
     "output_type": "stream",
     "text": [
      "C:\\Users\\TBrown02\\local\\mc2\\envs\\Renv\\lib\\site-packages\\rpy2\\robjects\\pandas2ri.py:191: FutureWarning: from_items is deprecated. Please use DataFrame.from_dict(dict(items), ...) instead. DataFrame.from_dict(OrderedDict(items)) may be used to preserve the key order.\n",
      "  res = PandasDataFrame.from_items(items)\n"
     ]
    },
    {
     "data": {
      "text/plain": [
       "pandas.core.frame.DataFrame"
      ]
     },
     "execution_count": 10,
     "metadata": {},
     "output_type": "execute_result"
    }
   ],
   "source": [
    "R.library('datasets')\n",
    "R.data('iris')\n",
    "type(R.iris)  # automatically converted to pandas dataframe"
   ]
  },
  {
   "cell_type": "code",
   "execution_count": 11,
   "metadata": {},
   "outputs": [
    {
     "data": {
      "text/html": [
       "<div>\n",
       "<style scoped>\n",
       "    .dataframe tbody tr th:only-of-type {\n",
       "        vertical-align: middle;\n",
       "    }\n",
       "\n",
       "    .dataframe tbody tr th {\n",
       "        vertical-align: top;\n",
       "    }\n",
       "\n",
       "    .dataframe thead th {\n",
       "        text-align: right;\n",
       "    }\n",
       "</style>\n",
       "<table border=\"1\" class=\"dataframe\">\n",
       "  <thead>\n",
       "    <tr style=\"text-align: right;\">\n",
       "      <th></th>\n",
       "      <th>Sepal.Length</th>\n",
       "      <th>Sepal.Width</th>\n",
       "      <th>Petal.Length</th>\n",
       "      <th>Petal.Width</th>\n",
       "      <th>Species</th>\n",
       "    </tr>\n",
       "  </thead>\n",
       "  <tbody>\n",
       "    <tr>\n",
       "      <th>0</th>\n",
       "      <td>5.1</td>\n",
       "      <td>3.5</td>\n",
       "      <td>1.4</td>\n",
       "      <td>0.2</td>\n",
       "      <td>setosa</td>\n",
       "    </tr>\n",
       "    <tr>\n",
       "      <th>1</th>\n",
       "      <td>4.9</td>\n",
       "      <td>3.0</td>\n",
       "      <td>1.4</td>\n",
       "      <td>0.2</td>\n",
       "      <td>setosa</td>\n",
       "    </tr>\n",
       "    <tr>\n",
       "      <th>2</th>\n",
       "      <td>4.7</td>\n",
       "      <td>3.2</td>\n",
       "      <td>1.3</td>\n",
       "      <td>0.2</td>\n",
       "      <td>setosa</td>\n",
       "    </tr>\n",
       "    <tr>\n",
       "      <th>3</th>\n",
       "      <td>4.6</td>\n",
       "      <td>3.1</td>\n",
       "      <td>1.5</td>\n",
       "      <td>0.2</td>\n",
       "      <td>setosa</td>\n",
       "    </tr>\n",
       "    <tr>\n",
       "      <th>4</th>\n",
       "      <td>5.0</td>\n",
       "      <td>3.6</td>\n",
       "      <td>1.4</td>\n",
       "      <td>0.2</td>\n",
       "      <td>setosa</td>\n",
       "    </tr>\n",
       "  </tbody>\n",
       "</table>\n",
       "</div>"
      ],
      "text/plain": [
       "   Sepal.Length  Sepal.Width  Petal.Length  Petal.Width Species\n",
       "0           5.1          3.5           1.4          0.2  setosa\n",
       "1           4.9          3.0           1.4          0.2  setosa\n",
       "2           4.7          3.2           1.3          0.2  setosa\n",
       "3           4.6          3.1           1.5          0.2  setosa\n",
       "4           5.0          3.6           1.4          0.2  setosa"
      ]
     },
     "execution_count": 11,
     "metadata": {},
     "output_type": "execute_result"
    }
   ],
   "source": [
    "R.iris.head()"
   ]
  },
  {
   "cell_type": "code",
   "execution_count": 12,
   "metadata": {},
   "outputs": [
    {
     "data": {
      "text/plain": [
       "Index(['Sepal.Length', 'Sepal.Width', 'Petal.Length', 'Petal.Width',\n",
       "       'Species'],\n",
       "      dtype='object')"
      ]
     },
     "execution_count": 12,
     "metadata": {},
     "output_type": "execute_result"
    }
   ],
   "source": [
    "R.iris['color'] = 'red'\n",
    "R.iris.columns"
   ]
  },
  {
   "cell_type": "markdown",
   "metadata": {},
   "source": [
    "Why didn't the `color` column stick?  `R.iris` returns a **copy** of the dataframe in the R session.  This is common for function calls (`foo.bar()`), but surprising for attribute access (`foo.bar`), although not too unusual, see Python propterties for example.  So keep a reference to the copy, and manipulate that directly:"
   ]
  },
  {
   "cell_type": "code",
   "execution_count": 13,
   "metadata": {},
   "outputs": [
    {
     "data": {
      "text/plain": [
       "Index(['Sepal.Length', 'Sepal.Width', 'Petal.Length', 'Petal.Width', 'Species',\n",
       "       'color'],\n",
       "      dtype='object')"
      ]
     },
     "execution_count": 13,
     "metadata": {},
     "output_type": "execute_result"
    }
   ],
   "source": [
    "iris = R.iris\n",
    "iris['color'] = 'red'\n",
    "iris.columns"
   ]
  },
  {
   "cell_type": "code",
   "execution_count": 14,
   "metadata": {},
   "outputs": [
    {
     "data": {
      "text/html": [
       "\n",
       "    <span>IntVector with 1 elements.</span>\n",
       "    <table>\n",
       "      <tbody>\n",
       "      <tr>\n",
       "      \n",
       "      <td>\n",
       "        1\n",
       "      </td>\n",
       "      \n",
       "      </tr>\n",
       "      </tbody>\n",
       "    </table>\n",
       "    "
      ],
      "text/plain": [
       "R object with classes: ('integer',) mapped to:\n",
       "<IntVector - Python:0x0000023C0CE9D448 / R:0x0000023C0B70E500>\n",
       "[1]"
      ]
     },
     "execution_count": 14,
     "metadata": {},
     "output_type": "execute_result"
    }
   ],
   "source": [
    "from rpy2.robjects.packages import importr\n",
    "grdevices = importr('grDevices')\n",
    "\n",
    "iris.loc[iris.Species == 'setosa', 'color'] = 'blue'\n",
    "R.head(iris)\n",
    "iris.head()\n",
    "\n",
    "iris['color'] = R.c(iris['color']).factor()\n",
    "grdevices.png(file=\"test2.png\", width=512, height=512)\n",
    "if False:\n",
    "    R.plot(iris)  # works sometimes, crashes sometimes\n",
    "else:\n",
    "    R.assign('iris2', iris)\n",
    "    R(\"plot(iris2)\")\n",
    "grdevices.dev_off()\n"
   ]
  },
  {
   "cell_type": "markdown",
   "metadata": {},
   "source": [
    "## A real application"
   ]
  },
  {
   "cell_type": "code",
   "execution_count": 15,
   "metadata": {
    "slideshow": {
     "slide_type": "slide"
    }
   },
   "outputs": [
    {
     "data": {
      "text/plain": [
       "<matplotlib.axes._subplots.AxesSubplot at 0x23c0ea42780>"
      ]
     },
     "execution_count": 15,
     "metadata": {},
     "output_type": "execute_result"
    },
    {
     "data": {
      "image/png": "[encoded data removed]",
      "text/plain": [
       "<Figure size 432x288 with 1 Axes>"
      ]
     },
     "metadata": {
      "needs_background": "light"
     },
     "output_type": "display_data"
    }
   ],
   "source": [
    "%matplotlib inline\n",
    "import geopandas\n",
    "import matplotlib.pyplot as plt\n",
    "\n",
    "lakes = geopandas.read_file(\"Shapes/Great_Lakes_5.shp\")\n",
    "lakes.plot()"
   ]
  },
  {
   "cell_type": "code",
   "execution_count": 16,
   "metadata": {},
   "outputs": [
    {
     "data": {
      "text/html": [
       "<div>\n",
       "<style scoped>\n",
       "    .dataframe tbody tr th:only-of-type {\n",
       "        vertical-align: middle;\n",
       "    }\n",
       "\n",
       "    .dataframe tbody tr th {\n",
       "        vertical-align: top;\n",
       "    }\n",
       "\n",
       "    .dataframe thead th {\n",
       "        text-align: right;\n",
       "    }\n",
       "</style>\n",
       "<table border=\"1\" class=\"dataframe\">\n",
       "  <thead>\n",
       "    <tr style=\"text-align: right;\">\n",
       "      <th></th>\n",
       "      <th>AREA</th>\n",
       "      <th>PERIMETER</th>\n",
       "      <th>LAKES_</th>\n",
       "      <th>LAKES_ID</th>\n",
       "      <th>LWCODE</th>\n",
       "      <th>PNAME</th>\n",
       "      <th>OWNER</th>\n",
       "      <th>geometry</th>\n",
       "    </tr>\n",
       "  </thead>\n",
       "  <tbody>\n",
       "    <tr>\n",
       "      <th>0</th>\n",
       "      <td>8.195600e+10</td>\n",
       "      <td>4221007.00</td>\n",
       "      <td>2</td>\n",
       "      <td>1</td>\n",
       "      <td>W</td>\n",
       "      <td>Lake Superior</td>\n",
       "      <td>INT</td>\n",
       "      <td>POLYGON ((582256.5 2910146, 590825.125 2910682...</td>\n",
       "    </tr>\n",
       "    <tr>\n",
       "      <th>1</th>\n",
       "      <td>6.108000e+10</td>\n",
       "      <td>5363051.00</td>\n",
       "      <td>143</td>\n",
       "      <td>142</td>\n",
       "      <td>W</td>\n",
       "      <td>Lake Huron</td>\n",
       "      <td>INT</td>\n",
       "      <td>POLYGON ((912828.125 2671729.5, 912875.875 267...</td>\n",
       "    </tr>\n",
       "    <tr>\n",
       "      <th>2</th>\n",
       "      <td>1.977400e+10</td>\n",
       "      <td>2217749.00</td>\n",
       "      <td>245</td>\n",
       "      <td>244</td>\n",
       "      <td>W</td>\n",
       "      <td>Lake Ontario</td>\n",
       "      <td>INT</td>\n",
       "      <td>POLYGON ((1642405.25 2627424, 1642288.25 26270...</td>\n",
       "    </tr>\n",
       "    <tr>\n",
       "      <th>3</th>\n",
       "      <td>5.740200e+10</td>\n",
       "      <td>2590905.00</td>\n",
       "      <td>327</td>\n",
       "      <td>326</td>\n",
       "      <td>W</td>\n",
       "      <td>Lake Michigan</td>\n",
       "      <td>INT</td>\n",
       "      <td>POLYGON ((785510.25 2595350.5, 785704.625 2595...</td>\n",
       "    </tr>\n",
       "    <tr>\n",
       "      <th>4</th>\n",
       "      <td>2.570300e+10</td>\n",
       "      <td>1504214.75</td>\n",
       "      <td>461</td>\n",
       "      <td>460</td>\n",
       "      <td>W</td>\n",
       "      <td>Lake Erie</td>\n",
       "      <td>INT</td>\n",
       "      <td>POLYGON ((1379975.75 2336141, 1380315.75 23364...</td>\n",
       "    </tr>\n",
       "  </tbody>\n",
       "</table>\n",
       "</div>"
      ],
      "text/plain": [
       "           AREA   PERIMETER  LAKES_  LAKES_ID LWCODE          PNAME OWNER  \\\n",
       "0  8.195600e+10  4221007.00       2         1      W  Lake Superior   INT   \n",
       "1  6.108000e+10  5363051.00     143       142      W     Lake Huron   INT   \n",
       "2  1.977400e+10  2217749.00     245       244      W   Lake Ontario   INT   \n",
       "3  5.740200e+10  2590905.00     327       326      W  Lake Michigan   INT   \n",
       "4  2.570300e+10  1504214.75     461       460      W      Lake Erie   INT   \n",
       "\n",
       "                                            geometry  \n",
       "0  POLYGON ((582256.5 2910146, 590825.125 2910682...  \n",
       "1  POLYGON ((912828.125 2671729.5, 912875.875 267...  \n",
       "2  POLYGON ((1642405.25 2627424, 1642288.25 26270...  \n",
       "3  POLYGON ((785510.25 2595350.5, 785704.625 2595...  \n",
       "4  POLYGON ((1379975.75 2336141, 1380315.75 23364...  "
      ]
     },
     "execution_count": 16,
     "metadata": {},
     "output_type": "execute_result"
    }
   ],
   "source": [
    "lakes.head()"
   ]
  },
  {
   "cell_type": "markdown",
   "metadata": {},
   "source": [
    "### spsurvey: Spatial Survey Design and Analysis\n",
    "\n",
    "\"These functions provide procedures for selecting sites for spatial surveys using spatially balanced algorithms applied to discrete points, linear networks, or polygons. The probability survey designs available include independent random samples, stratified random samples, and unequal probability random samples (categorical or probability proportional to size).\""
   ]
  },
  {
   "cell_type": "markdown",
   "metadata": {},
   "source": [
    "Original R code\n",
    "```R\n",
    "# Create the design list\n",
    "Stratdsgn <- list(\n",
    "  \"Lake Superior\"=list(panel=c(PanelOne=50), seltype=\"Equal\", over=20),\n",
    "  \"Lake Michigan\"=list(panel=c(PanelOne=30), seltype=\"Equal\", over=15),\n",
    "  \"Lake Huron\"=list(panel=c(PanelOne=30), seltype=\"Equal\", over=15),\n",
    "  \"Lake Erie\"=list(panel=c(PanelOne=20), seltype=\"Equal\", over=10),\n",
    "  \"Lake Ontario\"=list(panel=c(PanelOne=20), seltype=\"Equal\", over=10))\n",
    "```"
   ]
  },
  {
   "cell_type": "markdown",
   "metadata": {},
   "source": [
    "This uses R `list()`s for a collection of named attributes at two levels, but then switches to using an R vector (`c()`) for a collection of one named attribute.  Starting from scratch I would probably either put this data in a separate file (.csv) or use a `namedtuple` to make it less cluttered.  But translating directly to Python:"
   ]
  },
  {
   "cell_type": "code",
   "execution_count": 17,
   "metadata": {},
   "outputs": [],
   "source": [
    "Stratdsgn = {\n",
    "  'Lake Superior': {'panel': {'PanelOne': 50}, 'seltype': \"Equal\", 'over': 20},\n",
    "  'Lake Michigan': {'panel': {'PanelOne': 30}, 'seltype': \"Equal\", 'over': 15},\n",
    "  'Lake Huron': {'panel': {'PanelOne': 30}, 'seltype': \"Equal\", 'over': 15},\n",
    "  'Lake Erie': {'panel': {'PanelOne': 20}, 'seltype': \"Equal\", 'over': 10},\n",
    "  'Lake Ontario': {'panel': {'PanelOne': 20}, 'seltype': \"Equal\", 'over': 10},\n",
    "}"
   ]
  },
  {
   "cell_type": "markdown",
   "metadata": {},
   "source": [
    "We need to convert this to R objects to call the R function.  `R.list`, aka `rpy2.robjects.r['list']` is the R `list()` function, which takes a series of `keyword=value` pairs.  In Python, keywords can't be expressions, like the string expression, `\"Lake Superior\"`, so you could write:"
   ]
  },
  {
   "cell_type": "code",
   "execution_count": 18,
   "metadata": {},
   "outputs": [],
   "source": [
    "R_Stratdsgn = R.list(\n",
    "  Lake_Superior=R.list(panel=R.c(PanelOne=50), seltype=\"Equal\", over=20),\n",
    "  Lake_Michigan=R.list(panel=R.c(PanelOne=30), seltype=\"Equal\", over=15),\n",
    "  Lake_Huron=R.list(panel=R.c(PanelOne=30), seltype=\"Equal\", over=15),\n",
    "  Lake_Erie=R.list(panel=R.c(PanelOne=20), seltype=\"Equal\", over=10),\n",
    "  Lake_Ontario=R.list(panel=R.c(PanelOne=20), seltype=\"Equal\", over=10),\n",
    ")"
   ]
  },
  {
   "cell_type": "markdown",
   "metadata": {},
   "source": [
    "Or you could use Python's `**<dict>` operator, which converts the `<dict>` into a series of `keyword=value` pairs.  These is a simple example of the ** operator in the last cell of this notebook, or [see Python docs.](https://docs.python.org/3/tutorial/controlflow.html#keyword-arguments)"
   ]
  },
  {
   "cell_type": "code",
   "execution_count": 19,
   "metadata": {},
   "outputs": [],
   "source": [
    "R_Stratdsgn = R.list(**{\n",
    "  'Lake Superior': R.list(panel=R.c(PanelOne=50), seltype=\"Equal\", over=20),\n",
    "  'Lake Michigan': R.list(panel=R.c(PanelOne=30), seltype=\"Equal\", over=15),\n",
    "  'Lake Huron': R.list(panel=R.c(PanelOne=30), seltype=\"Equal\", over=15),\n",
    "  'Lake Erie': R.list(panel=R.c(PanelOne=20), seltype=\"Equal\", over=10),\n",
    "  'Lake Ontario': R.list(panel=R.c(PanelOne=20), seltype=\"Equal\", over=10),\n",
    "})"
   ]
  },
  {
   "cell_type": "markdown",
   "metadata": {},
   "source": [
    "But if you're manipulating data in Python and only want the R version to call an R function, maybe convert the Python data structure to R objects like this:"
   ]
  },
  {
   "cell_type": "code",
   "execution_count": 20,
   "metadata": {},
   "outputs": [],
   "source": [
    "R_Stratdsgn = R.list()  # top level list\n",
    "for lake, setup in Stratdsgn.items():\n",
    "    R_Stratdsgn = R.append(\n",
    "        R_Stratdsgn, \n",
    "        R.list(**{lake: R.list(  # lists within list\n",
    "            panel=R.c(**setup['panel']),  # R character vector\n",
    "            seltype=setup['seltype'],\n",
    "            over=setup['over'],\n",
    "        )})\n",
    "    )"
   ]
  },
  {
   "cell_type": "markdown",
   "metadata": {},
   "source": [
    "Original R code\n",
    "```R\n",
    "att <- read.dbf(\"Great_Lakes_5\")\n",
    "set.seed(4447864) #This allows you to re-create the points if needed\n",
    "\n",
    "Stratsites <- grts(\n",
    " design=Stratdsgn,       # we made this already\n",
    " DesignID=\"Stratified\",\n",
    " type.frame=\"area\",\n",
    " src.frame=\"shapefile\",\n",
    " in.shape=\"Great_Lakes_5\",\n",
    " att.frame=att,          # an R dataframe\n",
    " stratum=\"PNAME\",\n",
    " shapefile=TRUE,         # True in Python\n",
    " prjfilename=\"Great_Lakes_5\",\n",
    " out.shape=\"Stratified_Equal\")\n",
    "```"
   ]
  },
  {
   "cell_type": "code",
   "execution_count": 21,
   "metadata": {},
   "outputs": [
    {
     "data": {
      "text/plain": [
       "rpy2.rinterface.NULL"
      ]
     },
     "execution_count": 21,
     "metadata": {},
     "output_type": "execute_result"
    }
   ],
   "source": [
    "R(\"set.seed(4447864)\")  # This allows you to re-create the points if needed\n",
    "# OR\n",
    "base = rpackages.importr('base')\n",
    "base.set_seed(4447864)\n",
    "# OR\n",
    "R(\"set.seed(%s)\" % 4447864)  # generate text and pass it to R\n",
    "# OR\n",
    "R['set.seed'](4447864)"
   ]
  },
  {
   "cell_type": "markdown",
   "metadata": {},
   "source": [
    "### Calling the R `grts()` function"
   ]
  },
  {
   "cell_type": "code",
   "execution_count": 22,
   "metadata": {},
   "outputs": [],
   "source": [
    "# using **dict again to allow '.' in keywords\n",
    "Stratsites = R['grts'](**{\n",
    "    'design': R_Stratdsgn,\n",
    "    'DesignID': \"Stratified\",\n",
    "    'type.frame': \"area\",\n",
    "    'src.frame': \"shapefile\",\n",
    "    'in.shape': \"Shapes\\\\Great_Lakes_5\",\n",
    "    'att.frame': lakes.drop(columns='geometry'),\n",
    "    # passing in a (geo)pandas dataframe, because of auto-conversion above\n",
    "    'stratum': \"PNAME\",\n",
    "    'shapefile': True,\n",
    "    'prjfilename': \"Shapes\\\\Great_Lakes_5\",\n",
    "    'out.shape': \"Stratified_Equal\",\n",
    "})"
   ]
  },
  {
   "cell_type": "code",
   "execution_count": 23,
   "metadata": {},
   "outputs": [
    {
     "data": {
      "text/plain": [
       "<matplotlib.axes._subplots.AxesSubplot at 0x23c14e39438>"
      ]
     },
     "execution_count": 23,
     "metadata": {},
     "output_type": "execute_result"
    },
    {
     "data": {
      "image/png": "[encoded data removed]",
      "text/plain": [
       "<Figure size 432x288 with 1 Axes>"
      ]
     },
     "metadata": {
      "needs_background": "light"
     },
     "output_type": "display_data"
    }
   ],
   "source": [
    "pts = geopandas.read_file(\"Stratified_Equal.shp\")\n",
    "pts.plot()"
   ]
  },
  {
   "cell_type": "code",
   "execution_count": 24,
   "metadata": {},
   "outputs": [
    {
     "data": {
      "text/html": [
       "<div>\n",
       "<style scoped>\n",
       "    .dataframe tbody tr th:only-of-type {\n",
       "        vertical-align: middle;\n",
       "    }\n",
       "\n",
       "    .dataframe tbody tr th {\n",
       "        vertical-align: top;\n",
       "    }\n",
       "\n",
       "    .dataframe thead th {\n",
       "        text-align: right;\n",
       "    }\n",
       "</style>\n",
       "<table border=\"1\" class=\"dataframe\">\n",
       "  <thead>\n",
       "    <tr style=\"text-align: right;\">\n",
       "      <th></th>\n",
       "      <th>siteID</th>\n",
       "      <th>xcoord</th>\n",
       "      <th>ycoord</th>\n",
       "      <th>mdcaty</th>\n",
       "      <th>wgt</th>\n",
       "      <th>stratum</th>\n",
       "      <th>panel</th>\n",
       "      <th>EvalStatus</th>\n",
       "      <th>EvalReason</th>\n",
       "      <th>AREA</th>\n",
       "      <th>PERIMETER</th>\n",
       "      <th>LAKES_</th>\n",
       "      <th>LAKES_ID</th>\n",
       "      <th>LWCODE</th>\n",
       "      <th>OWNER</th>\n",
       "      <th>geometry</th>\n",
       "    </tr>\n",
       "  </thead>\n",
       "  <tbody>\n",
       "    <tr>\n",
       "      <th>0</th>\n",
       "      <td>Stratified-001</td>\n",
       "      <td>582346.742633</td>\n",
       "      <td>2.808997e+06</td>\n",
       "      <td>Equal</td>\n",
       "      <td>1.639113e+09</td>\n",
       "      <td>Lake Superior</td>\n",
       "      <td>PanelOne</td>\n",
       "      <td>NotEval</td>\n",
       "      <td>None</td>\n",
       "      <td>8.195600e+10</td>\n",
       "      <td>4221007.0</td>\n",
       "      <td>2</td>\n",
       "      <td>1</td>\n",
       "      <td>W</td>\n",
       "      <td>INT</td>\n",
       "      <td>POINT (582346.7426328704 2808997.049720222)</td>\n",
       "    </tr>\n",
       "    <tr>\n",
       "      <th>1</th>\n",
       "      <td>Stratified-002</td>\n",
       "      <td>532264.151645</td>\n",
       "      <td>2.776302e+06</td>\n",
       "      <td>Equal</td>\n",
       "      <td>1.639113e+09</td>\n",
       "      <td>Lake Superior</td>\n",
       "      <td>PanelOne</td>\n",
       "      <td>NotEval</td>\n",
       "      <td>None</td>\n",
       "      <td>8.195600e+10</td>\n",
       "      <td>4221007.0</td>\n",
       "      <td>2</td>\n",
       "      <td>1</td>\n",
       "      <td>W</td>\n",
       "      <td>INT</td>\n",
       "      <td>POINT (532264.1516450299 2776301.802712739)</td>\n",
       "    </tr>\n",
       "    <tr>\n",
       "      <th>2</th>\n",
       "      <td>Stratified-003</td>\n",
       "      <td>694205.652545</td>\n",
       "      <td>2.788025e+06</td>\n",
       "      <td>Equal</td>\n",
       "      <td>1.639113e+09</td>\n",
       "      <td>Lake Superior</td>\n",
       "      <td>PanelOne</td>\n",
       "      <td>NotEval</td>\n",
       "      <td>None</td>\n",
       "      <td>8.195600e+10</td>\n",
       "      <td>4221007.0</td>\n",
       "      <td>2</td>\n",
       "      <td>1</td>\n",
       "      <td>W</td>\n",
       "      <td>INT</td>\n",
       "      <td>POINT (694205.6525449099 2788024.692846031)</td>\n",
       "    </tr>\n",
       "    <tr>\n",
       "      <th>3</th>\n",
       "      <td>Stratified-004</td>\n",
       "      <td>854682.064390</td>\n",
       "      <td>2.687644e+06</td>\n",
       "      <td>Equal</td>\n",
       "      <td>1.639113e+09</td>\n",
       "      <td>Lake Superior</td>\n",
       "      <td>PanelOne</td>\n",
       "      <td>NotEval</td>\n",
       "      <td>None</td>\n",
       "      <td>8.195600e+10</td>\n",
       "      <td>4221007.0</td>\n",
       "      <td>2</td>\n",
       "      <td>1</td>\n",
       "      <td>W</td>\n",
       "      <td>INT</td>\n",
       "      <td>POINT (854682.0643900804 2687643.766496909)</td>\n",
       "    </tr>\n",
       "    <tr>\n",
       "      <th>4</th>\n",
       "      <td>Stratified-005</td>\n",
       "      <td>609286.604342</td>\n",
       "      <td>2.836732e+06</td>\n",
       "      <td>Equal</td>\n",
       "      <td>1.639113e+09</td>\n",
       "      <td>Lake Superior</td>\n",
       "      <td>PanelOne</td>\n",
       "      <td>NotEval</td>\n",
       "      <td>None</td>\n",
       "      <td>8.195600e+10</td>\n",
       "      <td>4221007.0</td>\n",
       "      <td>2</td>\n",
       "      <td>1</td>\n",
       "      <td>W</td>\n",
       "      <td>INT</td>\n",
       "      <td>POINT (609286.6043420924 2836732.283878186)</td>\n",
       "    </tr>\n",
       "  </tbody>\n",
       "</table>\n",
       "</div>"
      ],
      "text/plain": [
       "           siteID         xcoord        ycoord mdcaty           wgt  \\\n",
       "0  Stratified-001  582346.742633  2.808997e+06  Equal  1.639113e+09   \n",
       "1  Stratified-002  532264.151645  2.776302e+06  Equal  1.639113e+09   \n",
       "2  Stratified-003  694205.652545  2.788025e+06  Equal  1.639113e+09   \n",
       "3  Stratified-004  854682.064390  2.687644e+06  Equal  1.639113e+09   \n",
       "4  Stratified-005  609286.604342  2.836732e+06  Equal  1.639113e+09   \n",
       "\n",
       "         stratum     panel EvalStatus EvalReason          AREA  PERIMETER  \\\n",
       "0  Lake Superior  PanelOne    NotEval       None  8.195600e+10  4221007.0   \n",
       "1  Lake Superior  PanelOne    NotEval       None  8.195600e+10  4221007.0   \n",
       "2  Lake Superior  PanelOne    NotEval       None  8.195600e+10  4221007.0   \n",
       "3  Lake Superior  PanelOne    NotEval       None  8.195600e+10  4221007.0   \n",
       "4  Lake Superior  PanelOne    NotEval       None  8.195600e+10  4221007.0   \n",
       "\n",
       "   LAKES_  LAKES_ID LWCODE OWNER                                     geometry  \n",
       "0       2         1      W   INT  POINT (582346.7426328704 2808997.049720222)  \n",
       "1       2         1      W   INT  POINT (532264.1516450299 2776301.802712739)  \n",
       "2       2         1      W   INT  POINT (694205.6525449099 2788024.692846031)  \n",
       "3       2         1      W   INT  POINT (854682.0643900804 2687643.766496909)  \n",
       "4       2         1      W   INT  POINT (609286.6043420924 2836732.283878186)  "
      ]
     },
     "execution_count": 24,
     "metadata": {},
     "output_type": "execute_result"
    }
   ],
   "source": [
    "pts.head()"
   ]
  },
  {
   "cell_type": "markdown",
   "metadata": {},
   "source": [
    "That was easy, but also cheating, Python just read a file R wrote.\n",
    "\n",
    "What about the value returned by the `grts()` function?  that's a R object (class instance) specfic to the `spsurvey` package.  `rpy2` has no special knowledge of it.  Some Python introspection helps.  The remainder of this notebook is just a series of Python operations to find the structure of the `Stratsites` object."
   ]
  },
  {
   "cell_type": "code",
   "execution_count": 25,
   "metadata": {},
   "outputs": [
    {
     "data": {
      "text/plain": [
       "R object with classes: ('SpatialDesign',) mapped to:\n",
       "<RS4 - Python:0x0000023C14B08AC8 / R:0x0000023C072E15D8>"
      ]
     },
     "execution_count": 25,
     "metadata": {},
     "output_type": "execute_result"
    }
   ],
   "source": [
    "Stratsites"
   ]
  },
  {
   "cell_type": "code",
   "execution_count": 26,
   "metadata": {},
   "outputs": [
    {
     "data": {
      "text/plain": [
       "['_RObjectMixin__close',\n",
       " '_RObjectMixin__fifo',\n",
       " '_RObjectMixin__file',\n",
       " '_RObjectMixin__rclass',\n",
       " '_RObjectMixin__rclass_set',\n",
       " '_RObjectMixin__readlines',\n",
       " '_RObjectMixin__show',\n",
       " '_RObjectMixin__sink',\n",
       " '_RObjectMixin__slots',\n",
       " '_RObjectMixin__tempfile',\n",
       " '_RObjectMixin__unlink',\n",
       " '__class__',\n",
       " '__deepcopy__',\n",
       " '__delattr__',\n",
       " '__dict__',\n",
       " '__dir__',\n",
       " '__doc__',\n",
       " '__eq__',\n",
       " '__format__',\n",
       " '__ge__',\n",
       " '__getattribute__',\n",
       " '__getstate__',\n",
       " '__gt__',\n",
       " '__hash__',\n",
       " '__init__',\n",
       " '__init_subclass__',\n",
       " '__le__',\n",
       " '__lt__',\n",
       " '__module__',\n",
       " '__ne__',\n",
       " '__new__',\n",
       " '__reduce__',\n",
       " '__reduce_ex__',\n",
       " '__repr__',\n",
       " '__rname__',\n",
       " '__setattr__',\n",
       " '__setstate__',\n",
       " '__sexp__',\n",
       " '__sexp_refcount__',\n",
       " '__sizeof__',\n",
       " '__str__',\n",
       " '__subclasshook__',\n",
       " '__weakref__',\n",
       " '_rclass_get',\n",
       " '_rclass_set',\n",
       " 'do_slot',\n",
       " 'do_slot_assign',\n",
       " 'isclass',\n",
       " 'list_attrs',\n",
       " 'named',\n",
       " 'r_repr',\n",
       " 'rclass',\n",
       " 'rid',\n",
       " 'rsame',\n",
       " 'slotnames',\n",
       " 'slots',\n",
       " 'typeof',\n",
       " 'validobject']"
      ]
     },
     "execution_count": 26,
     "metadata": {},
     "output_type": "execute_result"
    }
   ],
   "source": [
    "dir(Stratsites)"
   ]
  },
  {
   "cell_type": "code",
   "execution_count": 27,
   "metadata": {},
   "outputs": [
    {
     "data": {
      "text/plain": [
       "<rpy2.robjects.robject.RSlots at 0x23c14e7bac8>"
      ]
     },
     "execution_count": 27,
     "metadata": {},
     "output_type": "execute_result"
    }
   ],
   "source": [
    "Stratsites.slots"
   ]
  },
  {
   "cell_type": "code",
   "execution_count": 28,
   "metadata": {},
   "outputs": [
    {
     "data": {
      "text/plain": [
       "['__class__',\n",
       " '__delattr__',\n",
       " '__dir__',\n",
       " '__doc__',\n",
       " '__eq__',\n",
       " '__format__',\n",
       " '__ge__',\n",
       " '__getattribute__',\n",
       " '__getitem__',\n",
       " '__gt__',\n",
       " '__hash__',\n",
       " '__init__',\n",
       " '__init_subclass__',\n",
       " '__iter__',\n",
       " '__le__',\n",
       " '__len__',\n",
       " '__lt__',\n",
       " '__module__',\n",
       " '__ne__',\n",
       " '__new__',\n",
       " '__reduce__',\n",
       " '__reduce_ex__',\n",
       " '__repr__',\n",
       " '__setattr__',\n",
       " '__setitem__',\n",
       " '__sizeof__',\n",
       " '__slots__',\n",
       " '__str__',\n",
       " '__subclasshook__',\n",
       " '_robj',\n",
       " 'items',\n",
       " 'keys',\n",
       " 'values']"
      ]
     },
     "execution_count": 28,
     "metadata": {},
     "output_type": "execute_result"
    }
   ],
   "source": [
    "dir(Stratsites.slots)"
   ]
  },
  {
   "cell_type": "code",
   "execution_count": 29,
   "metadata": {},
   "outputs": [
    {
     "data": {
      "text/plain": [
       "<bound method RSlots.keys of <rpy2.robjects.robject.RSlots object at 0x0000023C14E7BAC8>>"
      ]
     },
     "execution_count": 29,
     "metadata": {},
     "output_type": "execute_result"
    }
   ],
   "source": [
    "Stratsites.slots.keys"
   ]
  },
  {
   "cell_type": "code",
   "execution_count": 30,
   "metadata": {},
   "outputs": [
    {
     "data": {
      "text/plain": [
       "<generator object RSlots.keys at 0x0000023C0EA307C8>"
      ]
     },
     "execution_count": 30,
     "metadata": {},
     "output_type": "execute_result"
    }
   ],
   "source": [
    "Stratsites.slots.keys()"
   ]
  },
  {
   "cell_type": "code",
   "execution_count": 31,
   "metadata": {},
   "outputs": [
    {
     "data": {
      "text/plain": [
       "['design', 'data', 'coords.nrs', 'coords', 'bbox', 'proj4string', 'class']"
      ]
     },
     "execution_count": 31,
     "metadata": {},
     "output_type": "execute_result"
    }
   ],
   "source": [
    "list(Stratsites.slots.keys())"
   ]
  },
  {
   "cell_type": "code",
   "execution_count": 32,
   "metadata": {},
   "outputs": [
    {
     "data": {
      "text/plain": [
       "['design', 'data', 'coords.nrs', 'coords', 'bbox', 'proj4string']"
      ]
     },
     "execution_count": 32,
     "metadata": {},
     "output_type": "execute_result"
    }
   ],
   "source": [
    "list(Stratsites.slotnames())"
   ]
  },
  {
   "cell_type": "code",
   "execution_count": 33,
   "metadata": {},
   "outputs": [
    {
     "data": {
      "text/plain": [
       "[('design', R object with classes: ('list',) mapped to:\n",
       "  <ListVector - Python:0x0000023C14B6CEC8 / R:0x0000023C06F4D488>\n",
       "  [ListVec..., ListVec..., ListVec..., ListVec..., ListVec...]\n",
       "  R object with classes: ('list',) mapped to:\n",
       "  <ListVector - Python:0x0000023C14B6CEC8 / R:0x0000023C06F4D488>\n",
       "  [ListVec..., ListVec..., ListVec..., ListVec..., ListVec...]\n",
       "  R object with classes: ('list',) mapped to:\n",
       "  <ListVector - Python:0x0000023C14B6CEC8 / R:0x0000023C06F4D488>\n",
       "  [ListVec..., ListVec..., ListVec..., ListVec..., ListVec...]\n",
       "  R object with classes: ('list',) mapped to:\n",
       "  <ListVector - Python:0x0000023C14B6CEC8 / R:0x0000023C06F4D488>\n",
       "  [ListVec..., ListVec..., ListVec..., ListVec..., ListVec...]\n",
       "  R object with classes: ('list',) mapped to:\n",
       "  <ListVector - Python:0x0000023C14B6CEC8 / R:0x0000023C06F4D488>\n",
       "  [ListVec..., ListVec..., ListVec..., ListVec..., ListVec...]\n",
       "  R object with classes: ('list',) mapped to:\n",
       "  <ListVector - Python:0x0000023C14B6CEC8 / R:0x0000023C06F4D488>\n",
       "  [ListVec..., ListVec..., ListVec..., ListVec..., ListVec...]),\n",
       " ('data', R object with classes: ('data.frame',) mapped to:\n",
       "  <DataFrame - Python:0x0000023C14A02A88 / R:0x0000023C01953010>\n",
       "  [StrVector, FloatVector, FloatVector, FactorVec..., ..., IntVector, IntVector, StrVector, StrVector]\n",
       "    siteID: <class 'rpy2.robjects.vectors.StrVector'>\n",
       "    R object with classes: ('character',) mapped to:\n",
       "  <StrVector - Python:0x0000023C14E83808 / R:0x0000023C0B9D1398>\n",
       "  ['Stratifi..., 'Stratifi..., 'Stratifi..., 'Stratifi..., ..., 'Stratifi..., 'Stratifi..., 'Stratifi..., 'Stratifi...]\n",
       "    xcoord: <class 'rpy2.robjects.vectors.FloatVector'>\n",
       "    R object with classes: ('numeric',) mapped to:\n",
       "  <FloatVector - Python:0x0000023C14E7AF88 / R:0x0000023C7F5CF9E0>\n",
       "  [582346.742633, 532264.151645, 694205.652545, 854682.064390, ..., 1429715.352478, 1341406.423904, 1361035.550471, 1344591.072282]\n",
       "    ycoord: <class 'rpy2.robjects.vectors.FloatVector'>\n",
       "    R object with classes: ('numeric',) mapped to:\n",
       "  <FloatVector - Python:0x0000023C14E7A288 / R:0x0000023C0AF1C780>\n",
       "  [2808997.049720, 2776301.802713, 2788024.692846, 2687643.766497, ..., 2439121.306802, 2421024.387198, 2404258.037918, 2373327.731612]\n",
       "    mdcaty: <class 'rpy2.robjects.vectors.FactorVector'>\n",
       "    R object with classes: ('factor',) mapped to:\n",
       "  <FactorVector - Python:0x0000023C14E7AD88 / R:0x0000023C0AFE2878>\n",
       "  [Equal, Equal, Equal, Equal, ..., Equal, Equal, Equal, Equal]\n",
       "  ...\n",
       "    stratum: <class 'rpy2.robjects.vectors.IntVector'>\n",
       "    R object with classes: ('integer',) mapped to:\n",
       "  <IntVector - Python:0x0000023C14E57888 / R:0x0000023C0B7BE878>\n",
       "  [2, 2, 2, 2, ..., 245, 245, 245, 245]\n",
       "    panel: <class 'rpy2.robjects.vectors.IntVector'>\n",
       "    R object with classes: ('integer',) mapped to:\n",
       "  <IntVector - Python:0x0000023C14E57808 / R:0x0000023C074B50F0>\n",
       "  [1, 1, 1, 1, ..., 244, 244, 244, 244]\n",
       "    EvalStatus: <class 'rpy2.robjects.vectors.StrVector'>\n",
       "    R object with classes: ('character',) mapped to:\n",
       "  <StrVector - Python:0x0000023C14B67348 / R:0x0000023C0B4ADA38>\n",
       "  ['W', 'W', 'W', 'W', ..., 'W', 'W', 'W', 'W']\n",
       "    EvalReason: <class 'rpy2.robjects.vectors.StrVector'>\n",
       "    R object with classes: ('character',) mapped to:\n",
       "  <StrVector - Python:0x0000023C14B671C8 / R:0x0000023C0B81BB30>\n",
       "  ['INT', 'INT', 'INT', 'INT', ..., 'INT', 'INT', 'INT', 'INT']),\n",
       " ('coords.nrs', R object with classes: ('numeric',) mapped to:\n",
       "  <FloatVector - Python:0x0000023C14AF9548 / R:0x0000023C059E3008>\n",
       "  []),\n",
       " ('coords', R object with classes: ('matrix',) mapped to:\n",
       "  <Matrix - Python:0x0000023C14A041C8 / R:0x0000023C0260A148>\n",
       "  [582346.742633, 532264.151645, 694205.652545, 854682.064390, ..., 2439121.306802, 2421024.387198, 2404258.037918, 2373327.731612]),\n",
       " ('bbox', R object with classes: ('matrix',) mapped to:\n",
       "  <Matrix - Python:0x0000023C14B68608 / R:0x0000023C0AAC9E20>\n",
       "  [292157.629690, 2124578.776621, 1662422.388954, 2896925.414173]),\n",
       " ('proj4string', R object with classes: ('CRS',) mapped to:\n",
       "  <RS4 - Python:0x0000023C14B01988 / R:0x0000023C0B4499F0>),\n",
       " ('class', R object with classes: ('character',) mapped to:\n",
       "  <StrVector - Python:0x0000023C149EE9C8 / R:0x0000023C03B8CB08>\n",
       "  ['SpatialDesign'])]"
      ]
     },
     "execution_count": 33,
     "metadata": {},
     "output_type": "execute_result"
    }
   ],
   "source": [
    "list(Stratsites.slots.items())"
   ]
  },
  {
   "cell_type": "code",
   "execution_count": 34,
   "metadata": {},
   "outputs": [
    {
     "data": {
      "text/plain": [
       "['design', 'data', 'coords.nrs', 'coords', 'bbox', 'proj4string', 'class']"
      ]
     },
     "execution_count": 34,
     "metadata": {},
     "output_type": "execute_result"
    }
   ],
   "source": [
    "list(Stratsites.list_attrs())"
   ]
  },
  {
   "cell_type": "code",
   "execution_count": 35,
   "metadata": {},
   "outputs": [
    {
     "data": {
      "text/html": [
       "\n",
       "    <span>Matrix with 440 elements.</span>\n",
       "    <table>\n",
       "      <tbody>\n",
       "      <tr>\n",
       "      \n",
       "      <td>\n",
       "        582346.742633\n",
       "      </td>\n",
       "      \n",
       "      <td>\n",
       "        532264.151645\n",
       "      </td>\n",
       "      \n",
       "      <td>\n",
       "        694205.652545\n",
       "      </td>\n",
       "      \n",
       "      <td>\n",
       "        854682.064390\n",
       "      </td>\n",
       "      \n",
       "      <td>\n",
       "        ...\n",
       "      </td>\n",
       "      \n",
       "      <td>\n",
       "        2439121.306802\n",
       "      </td>\n",
       "      \n",
       "      <td>\n",
       "        2421024.387198\n",
       "      </td>\n",
       "      \n",
       "      <td>\n",
       "        2404258.037918\n",
       "      </td>\n",
       "      \n",
       "      <td>\n",
       "        2373327.731612\n",
       "      </td>\n",
       "      \n",
       "      </tr>\n",
       "      </tbody>\n",
       "    </table>\n",
       "    "
      ],
      "text/plain": [
       "R object with classes: ('matrix',) mapped to:\n",
       "<Matrix - Python:0x0000023C14A0C308 / R:0x0000023C0260A148>\n",
       "[582346.742633, 532264.151645, 694205.652545, 854682.064390, ..., 2439121.306802, 2421024.387198, 2404258.037918, 2373327.731612]"
      ]
     },
     "execution_count": 35,
     "metadata": {},
     "output_type": "execute_result"
    }
   ],
   "source": [
    "Stratsites.do_slot('coords')"
   ]
  },
  {
   "cell_type": "code",
   "execution_count": 36,
   "metadata": {},
   "outputs": [],
   "source": [
    "d = dict(Stratsites.slots.items())"
   ]
  },
  {
   "cell_type": "code",
   "execution_count": 37,
   "metadata": {},
   "outputs": [
    {
     "data": {
      "text/plain": [
       "['design', 'data', 'coords.nrs', 'coords', 'bbox', 'proj4string', 'class']"
      ]
     },
     "execution_count": 37,
     "metadata": {},
     "output_type": "execute_result"
    }
   ],
   "source": [
    "list(d)"
   ]
  },
  {
   "cell_type": "code",
   "execution_count": 38,
   "metadata": {},
   "outputs": [
    {
     "data": {
      "text/html": [
       "\n",
       "    <span>ListVector with 5 elements.</span>\n",
       "    <table>\n",
       "      <tbody>\n",
       "      \n",
       "      <tr>\n",
       "      <th>\n",
       "        Lake Superior\n",
       "      </th>\n",
       "      <td>\n",
       "        \n",
       "    <span>ListVector with 3 elements.</span>\n",
       "    <table>\n",
       "      <tbody>\n",
       "      \n",
       "      <tr>\n",
       "      <th>\n",
       "        panel\n",
       "      </th>\n",
       "      <td>\n",
       "        \n",
       "    <span>FloatVector with 1 elements.</span>\n",
       "    <table>\n",
       "      <tbody>\n",
       "      <tr>\n",
       "      \n",
       "      <td>\n",
       "        50.000000\n",
       "      </td>\n",
       "      \n",
       "      </tr>\n",
       "      </tbody>\n",
       "    </table>\n",
       "    \n",
       "      </td>\n",
       "      </tr>\n",
       "      \n",
       "      <tr>\n",
       "      <th>\n",
       "        seltype\n",
       "      </th>\n",
       "      <td>\n",
       "        \n",
       "    <span>StrVector with 1 elements.</span>\n",
       "    <table>\n",
       "      <tbody>\n",
       "      <tr>\n",
       "      \n",
       "      <td>\n",
       "        'Equal'\n",
       "      </td>\n",
       "      \n",
       "      </tr>\n",
       "      </tbody>\n",
       "    </table>\n",
       "    \n",
       "      </td>\n",
       "      </tr>\n",
       "      \n",
       "      <tr>\n",
       "      <th>\n",
       "        over\n",
       "      </th>\n",
       "      <td>\n",
       "        \n",
       "    <span>IntVector with 1 elements.</span>\n",
       "    <table>\n",
       "      <tbody>\n",
       "      <tr>\n",
       "      \n",
       "      <td>\n",
       "        20\n",
       "      </td>\n",
       "      \n",
       "      </tr>\n",
       "      </tbody>\n",
       "    </table>\n",
       "    \n",
       "      </td>\n",
       "      </tr>\n",
       "      \n",
       "      </tbody>\n",
       "    </table>\n",
       "    \n",
       "      </td>\n",
       "      </tr>\n",
       "      \n",
       "      <tr>\n",
       "      <th>\n",
       "        Lake Michigan\n",
       "      </th>\n",
       "      <td>\n",
       "        \n",
       "    <span>ListVector with 3 elements.</span>\n",
       "    <table>\n",
       "      <tbody>\n",
       "      \n",
       "      <tr>\n",
       "      <th>\n",
       "        panel\n",
       "      </th>\n",
       "      <td>\n",
       "        \n",
       "    <span>FloatVector with 1 elements.</span>\n",
       "    <table>\n",
       "      <tbody>\n",
       "      <tr>\n",
       "      \n",
       "      <td>\n",
       "        30.000000\n",
       "      </td>\n",
       "      \n",
       "      </tr>\n",
       "      </tbody>\n",
       "    </table>\n",
       "    \n",
       "      </td>\n",
       "      </tr>\n",
       "      \n",
       "      <tr>\n",
       "      <th>\n",
       "        seltype\n",
       "      </th>\n",
       "      <td>\n",
       "        \n",
       "    <span>StrVector with 1 elements.</span>\n",
       "    <table>\n",
       "      <tbody>\n",
       "      <tr>\n",
       "      \n",
       "      <td>\n",
       "        'Equal'\n",
       "      </td>\n",
       "      \n",
       "      </tr>\n",
       "      </tbody>\n",
       "    </table>\n",
       "    \n",
       "      </td>\n",
       "      </tr>\n",
       "      \n",
       "      <tr>\n",
       "      <th>\n",
       "        over\n",
       "      </th>\n",
       "      <td>\n",
       "        \n",
       "    <span>IntVector with 1 elements.</span>\n",
       "    <table>\n",
       "      <tbody>\n",
       "      <tr>\n",
       "      \n",
       "      <td>\n",
       "        15\n",
       "      </td>\n",
       "      \n",
       "      </tr>\n",
       "      </tbody>\n",
       "    </table>\n",
       "    \n",
       "      </td>\n",
       "      </tr>\n",
       "      \n",
       "      </tbody>\n",
       "    </table>\n",
       "    \n",
       "      </td>\n",
       "      </tr>\n",
       "      \n",
       "      <tr>\n",
       "      <th>\n",
       "        Lake Huron\n",
       "      </th>\n",
       "      <td>\n",
       "        \n",
       "    <span>ListVector with 3 elements.</span>\n",
       "    <table>\n",
       "      <tbody>\n",
       "      \n",
       "      <tr>\n",
       "      <th>\n",
       "        panel\n",
       "      </th>\n",
       "      <td>\n",
       "        \n",
       "    <span>FloatVector with 1 elements.</span>\n",
       "    <table>\n",
       "      <tbody>\n",
       "      <tr>\n",
       "      \n",
       "      <td>\n",
       "        30.000000\n",
       "      </td>\n",
       "      \n",
       "      </tr>\n",
       "      </tbody>\n",
       "    </table>\n",
       "    \n",
       "      </td>\n",
       "      </tr>\n",
       "      \n",
       "      <tr>\n",
       "      <th>\n",
       "        seltype\n",
       "      </th>\n",
       "      <td>\n",
       "        \n",
       "    <span>StrVector with 1 elements.</span>\n",
       "    <table>\n",
       "      <tbody>\n",
       "      <tr>\n",
       "      \n",
       "      <td>\n",
       "        'Equal'\n",
       "      </td>\n",
       "      \n",
       "      </tr>\n",
       "      </tbody>\n",
       "    </table>\n",
       "    \n",
       "      </td>\n",
       "      </tr>\n",
       "      \n",
       "      <tr>\n",
       "      <th>\n",
       "        over\n",
       "      </th>\n",
       "      <td>\n",
       "        \n",
       "    <span>IntVector with 1 elements.</span>\n",
       "    <table>\n",
       "      <tbody>\n",
       "      <tr>\n",
       "      \n",
       "      <td>\n",
       "        15\n",
       "      </td>\n",
       "      \n",
       "      </tr>\n",
       "      </tbody>\n",
       "    </table>\n",
       "    \n",
       "      </td>\n",
       "      </tr>\n",
       "      \n",
       "      </tbody>\n",
       "    </table>\n",
       "    \n",
       "      </td>\n",
       "      </tr>\n",
       "      \n",
       "      <tr>\n",
       "      <th>\n",
       "        Lake Erie\n",
       "      </th>\n",
       "      <td>\n",
       "        \n",
       "    <span>ListVector with 3 elements.</span>\n",
       "    <table>\n",
       "      <tbody>\n",
       "      \n",
       "      <tr>\n",
       "      <th>\n",
       "        panel\n",
       "      </th>\n",
       "      <td>\n",
       "        \n",
       "    <span>FloatVector with 1 elements.</span>\n",
       "    <table>\n",
       "      <tbody>\n",
       "      <tr>\n",
       "      \n",
       "      <td>\n",
       "        20.000000\n",
       "      </td>\n",
       "      \n",
       "      </tr>\n",
       "      </tbody>\n",
       "    </table>\n",
       "    \n",
       "      </td>\n",
       "      </tr>\n",
       "      \n",
       "      <tr>\n",
       "      <th>\n",
       "        seltype\n",
       "      </th>\n",
       "      <td>\n",
       "        \n",
       "    <span>StrVector with 1 elements.</span>\n",
       "    <table>\n",
       "      <tbody>\n",
       "      <tr>\n",
       "      \n",
       "      <td>\n",
       "        'Equal'\n",
       "      </td>\n",
       "      \n",
       "      </tr>\n",
       "      </tbody>\n",
       "    </table>\n",
       "    \n",
       "      </td>\n",
       "      </tr>\n",
       "      \n",
       "      <tr>\n",
       "      <th>\n",
       "        over\n",
       "      </th>\n",
       "      <td>\n",
       "        \n",
       "    <span>IntVector with 1 elements.</span>\n",
       "    <table>\n",
       "      <tbody>\n",
       "      <tr>\n",
       "      \n",
       "      <td>\n",
       "        10\n",
       "      </td>\n",
       "      \n",
       "      </tr>\n",
       "      </tbody>\n",
       "    </table>\n",
       "    \n",
       "      </td>\n",
       "      </tr>\n",
       "      \n",
       "      </tbody>\n",
       "    </table>\n",
       "    \n",
       "      </td>\n",
       "      </tr>\n",
       "      \n",
       "      <tr>\n",
       "      <th>\n",
       "        Lake Ontario\n",
       "      </th>\n",
       "      <td>\n",
       "        \n",
       "    <span>ListVector with 3 elements.</span>\n",
       "    <table>\n",
       "      <tbody>\n",
       "      \n",
       "      <tr>\n",
       "      <th>\n",
       "        panel\n",
       "      </th>\n",
       "      <td>\n",
       "        \n",
       "    <span>FloatVector with 1 elements.</span>\n",
       "    <table>\n",
       "      <tbody>\n",
       "      <tr>\n",
       "      \n",
       "      <td>\n",
       "        20.000000\n",
       "      </td>\n",
       "      \n",
       "      </tr>\n",
       "      </tbody>\n",
       "    </table>\n",
       "    \n",
       "      </td>\n",
       "      </tr>\n",
       "      \n",
       "      <tr>\n",
       "      <th>\n",
       "        seltype\n",
       "      </th>\n",
       "      <td>\n",
       "        \n",
       "    <span>StrVector with 1 elements.</span>\n",
       "    <table>\n",
       "      <tbody>\n",
       "      <tr>\n",
       "      \n",
       "      <td>\n",
       "        'Equal'\n",
       "      </td>\n",
       "      \n",
       "      </tr>\n",
       "      </tbody>\n",
       "    </table>\n",
       "    \n",
       "      </td>\n",
       "      </tr>\n",
       "      \n",
       "      <tr>\n",
       "      <th>\n",
       "        over\n",
       "      </th>\n",
       "      <td>\n",
       "        \n",
       "    <span>IntVector with 1 elements.</span>\n",
       "    <table>\n",
       "      <tbody>\n",
       "      <tr>\n",
       "      \n",
       "      <td>\n",
       "        10\n",
       "      </td>\n",
       "      \n",
       "      </tr>\n",
       "      </tbody>\n",
       "    </table>\n",
       "    \n",
       "      </td>\n",
       "      </tr>\n",
       "      \n",
       "      </tbody>\n",
       "    </table>\n",
       "    \n",
       "      </td>\n",
       "      </tr>\n",
       "      \n",
       "      </tbody>\n",
       "    </table>\n",
       "    "
      ],
      "text/plain": [
       "R object with classes: ('list',) mapped to:\n",
       "<ListVector - Python:0x0000023C0CEB8108 / R:0x0000023C06F4D488>\n",
       "[ListVec..., ListVec..., ListVec..., ListVec..., ListVec...]\n",
       "R object with classes: ('list',) mapped to:\n",
       "<ListVector - Python:0x0000023C0CEB8108 / R:0x0000023C06F4D488>\n",
       "[ListVec..., ListVec..., ListVec..., ListVec..., ListVec...]\n",
       "R object with classes: ('list',) mapped to:\n",
       "<ListVector - Python:0x0000023C0CEB8108 / R:0x0000023C06F4D488>\n",
       "[ListVec..., ListVec..., ListVec..., ListVec..., ListVec...]\n",
       "R object with classes: ('list',) mapped to:\n",
       "<ListVector - Python:0x0000023C0CEB8108 / R:0x0000023C06F4D488>\n",
       "[ListVec..., ListVec..., ListVec..., ListVec..., ListVec...]\n",
       "R object with classes: ('list',) mapped to:\n",
       "<ListVector - Python:0x0000023C0CEB8108 / R:0x0000023C06F4D488>\n",
       "[ListVec..., ListVec..., ListVec..., ListVec..., ListVec...]\n",
       "R object with classes: ('list',) mapped to:\n",
       "<ListVector - Python:0x0000023C0CEB8108 / R:0x0000023C06F4D488>\n",
       "[ListVec..., ListVec..., ListVec..., ListVec..., ListVec...]"
      ]
     },
     "execution_count": 38,
     "metadata": {},
     "output_type": "execute_result"
    }
   ],
   "source": [
    "d['design']"
   ]
  },
  {
   "cell_type": "code",
   "execution_count": 39,
   "metadata": {},
   "outputs": [
    {
     "data": {
      "text/html": [
       "\n",
       "    <span>R/rpy2 DataFrame (220 x 15)</span>\n",
       "    <table>\n",
       "      <thead>\n",
       "        <tr>\n",
       "        \n",
       "          <th>siteID</th>\n",
       "        \n",
       "          <th>xcoord</th>\n",
       "        \n",
       "          <th>ycoord</th>\n",
       "        \n",
       "          <th>...</th>\n",
       "        \n",
       "          <th>LAKES_ID</th>\n",
       "        \n",
       "          <th>LWCODE</th>\n",
       "        \n",
       "          <th>OWNER</th>\n",
       "        \n",
       "        </tr>\n",
       "      </thead>\n",
       "      <tbody>\n",
       "      \n",
       "      <tr>\n",
       "      \n",
       "      <td>\n",
       "        'Stratifi...\n",
       "      </td>\n",
       "      \n",
       "      <td>\n",
       "        582346.742633\n",
       "      </td>\n",
       "      \n",
       "      <td>\n",
       "        2808997.049720\n",
       "      </td>\n",
       "      \n",
       "      <td>\n",
       "        ...\n",
       "      </td>\n",
       "      \n",
       "      <td>\n",
       "        1\n",
       "      </td>\n",
       "      \n",
       "      <td>\n",
       "        'W'\n",
       "      </td>\n",
       "      \n",
       "      <td>\n",
       "        'INT'\n",
       "      </td>\n",
       "      \n",
       "      </tr>\n",
       "      \n",
       "      <tr>\n",
       "      \n",
       "      <td>\n",
       "        'Stratifi...\n",
       "      </td>\n",
       "      \n",
       "      <td>\n",
       "        532264.151645\n",
       "      </td>\n",
       "      \n",
       "      <td>\n",
       "        2776301.802713\n",
       "      </td>\n",
       "      \n",
       "      <td>\n",
       "        ...\n",
       "      </td>\n",
       "      \n",
       "      <td>\n",
       "        1\n",
       "      </td>\n",
       "      \n",
       "      <td>\n",
       "        'W'\n",
       "      </td>\n",
       "      \n",
       "      <td>\n",
       "        'INT'\n",
       "      </td>\n",
       "      \n",
       "      </tr>\n",
       "      \n",
       "      <tr>\n",
       "      \n",
       "      <td>\n",
       "        'Stratifi...\n",
       "      </td>\n",
       "      \n",
       "      <td>\n",
       "        694205.652545\n",
       "      </td>\n",
       "      \n",
       "      <td>\n",
       "        2788024.692846\n",
       "      </td>\n",
       "      \n",
       "      <td>\n",
       "        ...\n",
       "      </td>\n",
       "      \n",
       "      <td>\n",
       "        1\n",
       "      </td>\n",
       "      \n",
       "      <td>\n",
       "        'W'\n",
       "      </td>\n",
       "      \n",
       "      <td>\n",
       "        'INT'\n",
       "      </td>\n",
       "      \n",
       "      </tr>\n",
       "      \n",
       "      <tr>\n",
       "      \n",
       "      <td>\n",
       "        'Stratifi...\n",
       "      </td>\n",
       "      \n",
       "      <td>\n",
       "        854682.064390\n",
       "      </td>\n",
       "      \n",
       "      <td>\n",
       "        2687643.766497\n",
       "      </td>\n",
       "      \n",
       "      <td>\n",
       "        ...\n",
       "      </td>\n",
       "      \n",
       "      <td>\n",
       "        1\n",
       "      </td>\n",
       "      \n",
       "      <td>\n",
       "        'W'\n",
       "      </td>\n",
       "      \n",
       "      <td>\n",
       "        'INT'\n",
       "      </td>\n",
       "      \n",
       "      </tr>\n",
       "      \n",
       "      <tr>\n",
       "      \n",
       "      <td>\n",
       "        ...\n",
       "      </td>\n",
       "      \n",
       "      <td>\n",
       "        ...\n",
       "      </td>\n",
       "      \n",
       "      <td>\n",
       "        ...\n",
       "      </td>\n",
       "      \n",
       "      <td>\n",
       "        ...\n",
       "      </td>\n",
       "      \n",
       "      <td>\n",
       "        ...\n",
       "      </td>\n",
       "      \n",
       "      <td>\n",
       "        ...\n",
       "      </td>\n",
       "      \n",
       "      <td>\n",
       "        ...\n",
       "      </td>\n",
       "      \n",
       "      </tr>\n",
       "      \n",
       "      <tr>\n",
       "      \n",
       "      <td>\n",
       "        'Stratifi...\n",
       "      </td>\n",
       "      \n",
       "      <td>\n",
       "        1429715.352478\n",
       "      </td>\n",
       "      \n",
       "      <td>\n",
       "        2439121.306802\n",
       "      </td>\n",
       "      \n",
       "      <td>\n",
       "        ...\n",
       "      </td>\n",
       "      \n",
       "      <td>\n",
       "        244\n",
       "      </td>\n",
       "      \n",
       "      <td>\n",
       "        'W'\n",
       "      </td>\n",
       "      \n",
       "      <td>\n",
       "        'INT'\n",
       "      </td>\n",
       "      \n",
       "      </tr>\n",
       "      \n",
       "      <tr>\n",
       "      \n",
       "      <td>\n",
       "        'Stratifi...\n",
       "      </td>\n",
       "      \n",
       "      <td>\n",
       "        1341406.423904\n",
       "      </td>\n",
       "      \n",
       "      <td>\n",
       "        2421024.387198\n",
       "      </td>\n",
       "      \n",
       "      <td>\n",
       "        ...\n",
       "      </td>\n",
       "      \n",
       "      <td>\n",
       "        244\n",
       "      </td>\n",
       "      \n",
       "      <td>\n",
       "        'W'\n",
       "      </td>\n",
       "      \n",
       "      <td>\n",
       "        'INT'\n",
       "      </td>\n",
       "      \n",
       "      </tr>\n",
       "      \n",
       "      <tr>\n",
       "      \n",
       "      <td>\n",
       "        'Stratifi...\n",
       "      </td>\n",
       "      \n",
       "      <td>\n",
       "        1361035.550471\n",
       "      </td>\n",
       "      \n",
       "      <td>\n",
       "        2404258.037918\n",
       "      </td>\n",
       "      \n",
       "      <td>\n",
       "        ...\n",
       "      </td>\n",
       "      \n",
       "      <td>\n",
       "        244\n",
       "      </td>\n",
       "      \n",
       "      <td>\n",
       "        'W'\n",
       "      </td>\n",
       "      \n",
       "      <td>\n",
       "        'INT'\n",
       "      </td>\n",
       "      \n",
       "      </tr>\n",
       "      \n",
       "      <tr>\n",
       "      \n",
       "      <td>\n",
       "        'Stratifi...\n",
       "      </td>\n",
       "      \n",
       "      <td>\n",
       "        1344591.072282\n",
       "      </td>\n",
       "      \n",
       "      <td>\n",
       "        2373327.731612\n",
       "      </td>\n",
       "      \n",
       "      <td>\n",
       "        ...\n",
       "      </td>\n",
       "      \n",
       "      <td>\n",
       "        244\n",
       "      </td>\n",
       "      \n",
       "      <td>\n",
       "        'W'\n",
       "      </td>\n",
       "      \n",
       "      <td>\n",
       "        'INT'\n",
       "      </td>\n",
       "      \n",
       "      </tr>\n",
       "      \n",
       "      </tbody>\n",
       "    </table>\n",
       "    "
      ],
      "text/plain": [
       "R object with classes: ('data.frame',) mapped to:\n",
       "<DataFrame - Python:0x0000023C0CEB81C8 / R:0x0000023C01953010>\n",
       "[StrVector, FloatVector, FloatVector, FactorVec..., ..., IntVector, IntVector, StrVector, StrVector]\n",
       "  siteID: <class 'rpy2.robjects.vectors.StrVector'>\n",
       "  R object with classes: ('character',) mapped to:\n",
       "<StrVector - Python:0x0000023C14A0CD08 / R:0x0000023C0B9D1398>\n",
       "['Stratifi..., 'Stratifi..., 'Stratifi..., 'Stratifi..., ..., 'Stratifi..., 'Stratifi..., 'Stratifi..., 'Stratifi...]\n",
       "  xcoord: <class 'rpy2.robjects.vectors.FloatVector'>\n",
       "  R object with classes: ('numeric',) mapped to:\n",
       "<FloatVector - Python:0x0000023C14E5E788 / R:0x0000023C7F5CF9E0>\n",
       "[582346.742633, 532264.151645, 694205.652545, 854682.064390, ..., 1429715.352478, 1341406.423904, 1361035.550471, 1344591.072282]\n",
       "  ycoord: <class 'rpy2.robjects.vectors.FloatVector'>\n",
       "  R object with classes: ('numeric',) mapped to:\n",
       "<FloatVector - Python:0x0000023C14B0B248 / R:0x0000023C0AF1C780>\n",
       "[2808997.049720, 2776301.802713, 2788024.692846, 2687643.766497, ..., 2439121.306802, 2421024.387198, 2404258.037918, 2373327.731612]\n",
       "  mdcaty: <class 'rpy2.robjects.vectors.FactorVector'>\n",
       "  R object with classes: ('factor',) mapped to:\n",
       "<FactorVector - Python:0x0000023C14A0C4C8 / R:0x0000023C0AFE2878>\n",
       "[Equal, Equal, Equal, Equal, ..., Equal, Equal, Equal, Equal]\n",
       "...\n",
       "  stratum: <class 'rpy2.robjects.vectors.IntVector'>\n",
       "  R object with classes: ('integer',) mapped to:\n",
       "<IntVector - Python:0x0000023C14A18588 / R:0x0000023C0B7BE878>\n",
       "[2, 2, 2, 2, ..., 245, 245, 245, 245]\n",
       "  panel: <class 'rpy2.robjects.vectors.IntVector'>\n",
       "  R object with classes: ('integer',) mapped to:\n",
       "<IntVector - Python:0x0000023C14A18988 / R:0x0000023C074B50F0>\n",
       "[1, 1, 1, 1, ..., 244, 244, 244, 244]\n",
       "  EvalStatus: <class 'rpy2.robjects.vectors.StrVector'>\n",
       "  R object with classes: ('character',) mapped to:\n",
       "<StrVector - Python:0x0000023C14A18448 / R:0x0000023C0B4ADA38>\n",
       "['W', 'W', 'W', 'W', ..., 'W', 'W', 'W', 'W']\n",
       "  EvalReason: <class 'rpy2.robjects.vectors.StrVector'>\n",
       "  R object with classes: ('character',) mapped to:\n",
       "<StrVector - Python:0x0000023C14B68988 / R:0x0000023C0B81BB30>\n",
       "['INT', 'INT', 'INT', 'INT', ..., 'INT', 'INT', 'INT', 'INT']"
      ]
     },
     "execution_count": 39,
     "metadata": {},
     "output_type": "execute_result"
    }
   ],
   "source": [
    "d['data']"
   ]
  },
  {
   "cell_type": "markdown",
   "metadata": {},
   "source": [
    "To copy the modified iris dataframe into the R session you can use `R.assign('iris2', iris)`."
   ]
  },
  {
   "cell_type": "code",
   "execution_count": 40,
   "metadata": {},
   "outputs": [
    {
     "name": "stdout",
     "output_type": "stream",
     "text": [
      "Args:\n",
      "a 2\n",
      "b 3\n",
      "Args:\n",
      "c 1\n",
      "a 2\n",
      "Bee's 3\n"
     ]
    }
   ],
   "source": [
    "# just an example of the **<dict> operator\n",
    "def x(**kwargs):\n",
    "    print(\"Args:\")\n",
    "    for k, v in kwargs.items():\n",
    "        print(k, v)\n",
    "\n",
    "x(a=2, b=3)\n",
    "x(c=1, **{'a': 2, \"Bee's\": 3})"
   ]
  }
 ],
 "metadata": {
  "kernelspec": {
   "display_name": "Python 3",
   "language": "python",
   "name": "python3"
  },
  "language_info": {
   "codemirror_mode": {
    "name": "ipython",
    "version": 3
   },
   "file_extension": ".py",
   "mimetype": "text/x-python",
   "name": "python",
   "nbconvert_exporter": "python",
   "pygments_lexer": "ipython3",
   "version": "3.7.3"
  }
 },
 "nbformat": 4,
 "nbformat_minor": 4
}
