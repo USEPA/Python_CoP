{
 "cells": [
  {
   "cell_type": "markdown",
   "id": "fe898453-9037-46e7-b897-9b2c6896745e",
   "metadata": {
    "tags": []
   },
   "source": [
    "# Testing in Python\n",
    "\n",
    "<Brown.TerryN@epa.gov> ORD / CCTE / SCDCD / ADB 2022-06-14\n",
    "\n",
    "## Testing in general\n",
    "\n",
    "### Value of testing\n",
    "\n",
    "Not always immediate, although it can be in more complex projects which are evolving.\n",
    "\n",
    "Invaluable when code is re-factored, and code will always be refactored at some point, unless it's abandoned.\n",
    "\n",
    "Valuable when errors in outputs might not be obvious, but could be serious (e.g. EPA data).\n",
    "\n",
    "Like git, can make it easier for devs. to experiment with confidence.\n",
    "\n",
    "### Testing in the development cycle\n",
    "\n",
    "Ideally tests are fast enough to run when needed, to answer the question \"does this work?\".\n",
    "\n",
    "Should be run as part of PR (pull request) review process and before releases of any kind.\n",
    "\n",
    "Adding tests for new code / functionality should be an unstated part of any ticket, although it should also be stated.\n",
    "\n",
    "### Unit tests vs. not\n",
    "\n",
    "Unit tests test small well controlled pieces of code, often just a single\n",
    "small function.\n",
    "\n",
    "Sometimes this involves creating an artificial environment where inputs,\n",
    "outputs, and other functions responses are controlled (stubbing or mocking).\n",
    "\n",
    "Tests that aren't unit tests, *end-to-end* tests or *integration* tests, may\n",
    "test the output of a pipeline of functions and inputs.\n",
    "\n",
    "**Unit tests**: precisely identify the piece of code being tested / causing the error.\n",
    "\n",
    "**End-to-end tests**: tell you that something's wrong.  This is really valuable, even if it's less efficient.  Knowing something is wrong lets you fix it before deployment or data-analysis\n",
    "or a user report, so it's better than not knowing.\n",
    "\n",
    "In small - medium sized projects, cost of debugging failed end-to-end tests is usually minor.\n",
    "\n",
    "### Test Driven Design\n",
    "\n",
    "The process of writing failing tests before writing code, then writing code\n",
    "until the tests pass.\n",
    "Creates a space to analyze design and integration without getting hung up on implementation.\n",
    "\n",
    "## Python testing\n",
    "\n",
    "### Use pytest, not unittest\n",
    "\n",
    " - The Python `unittest` module docs. point to the 3rd party `pytest` module.\n",
    " - Other examples, `lxml` for XML manipulation, `requests` for HTTP interactions,\n",
    "   `dateutil` for date manipulation.\n",
    "   \n",
    "<https://docs.pytest.org/>\n",
    "\n",
    "### Testing and notebooks / Jupyter Lab\n",
    "\n",
    "Python testing frameworks, `pytest` and `unittest`, expect to test functions imported from `.py` files, this doesn't translate directly to a notebook environment, although notebooks can run code from `.py` files tested with `pytest` etc.\n",
    "\n",
    "### Installation"
   ]
  },
  {
   "cell_type": "code",
   "execution_count": null,
   "id": "1d2f94df-0af6-44b5-b85c-6012a547268f",
   "metadata": {
    "tags": []
   },
   "outputs": [],
   "source": [
    "!pip install pytest pytest-cov pytest-xdist\n",
    "# extra for Jupyter in a Docker container, ignore\n",
    "!export PYTHONPATH=.\n",
    "!export PATH=/home/jovyan/.local/bin:$PATH"
   ]
  },
  {
   "cell_type": "markdown",
   "id": "5931df7a-07f9-42c0-b036-da5bb2e2f22a",
   "metadata": {},
   "source": [
    "### How tests are found\n",
    "\n",
    "There are options, see the docs., but one possibility:\n",
    "\n",
    "```\n",
    "project_folder\n",
    "  myproject\n",
    "    lib\n",
    "      utils.py\n",
    "  tests\n",
    "    lib\n",
    "      # scanned because it starts with \"test_\"\n",
    "      test_utils.py\n",
    "        # is a test because it starts with \"test_\"\n",
    "        def test_something():\n",
    "```"
   ]
  },
  {
   "cell_type": "markdown",
   "id": "da12a709-3800-48c8-b38a-1eeaa189ded6",
   "metadata": {},
   "source": [
    "### Running pytest, command line params\n",
    "\n",
    "Running, normally just\n",
    "```shell\n",
    "pytest tests\n",
    "```\n",
    "but if that fails\n",
    "```shell\n",
    "python -m pytest tests\n",
    "```\n",
    "\n",
    "Specifying the `tests` folder is not required but helps with finding some config. etc.\n",
    "\n",
    "First phase is test \"collection\", with possible filtering / selection, then tests are run."
   ]
  },
  {
   "cell_type": "code",
   "execution_count": 3,
   "id": "a4da703e-3140-4dd3-b53d-0a30d8918d90",
   "metadata": {
    "tags": []
   },
   "outputs": [
    {
     "name": "stdout",
     "output_type": "stream",
     "text": [
      "\u001b[1m============================= test session starts ==============================\u001b[0m\n",
      "platform linux -- Python 3.10.5, pytest-7.1.2, pluggy-1.0.0\n",
      "rootdir: /home/jovyan/repo/pycop_pytest/tests, configfile: pytest.ini\n",
      "plugins: forked-1.4.0, cov-3.0.0, xdist-2.5.0, anyio-3.6.1\n",
      "collected 9 items                                                              \u001b[0m\n",
      "\n",
      "tests/lib/test_utils.py \u001b[31mF\u001b[0m\u001b[32m.\u001b[0m\u001b[32m.\u001b[0m\u001b[31m                                              [ 33%]\u001b[0m\n",
      "tests/lib/test_utils_more.py \u001b[32m.\u001b[0m\u001b[32m.\u001b[0m\u001b[32m.\u001b[0m\u001b[33ms\u001b[0m\u001b[33ms\u001b[0m\u001b[33ms\u001b[0m\u001b[31m                                      [100%]\u001b[0m\n",
      "\n",
      "=================================== FAILURES ===================================\n",
      "\u001b[31m\u001b[1m_________________________________ test_invert __________________________________\u001b[0m\n",
      "\n",
      "    \u001b[94mdef\u001b[39;49;00m \u001b[92mtest_invert\u001b[39;49;00m():\n",
      "        \u001b[94massert\u001b[39;49;00m invert((\u001b[94m1\u001b[39;49;00m, \u001b[94m2\u001b[39;49;00m, \u001b[94m3\u001b[39;49;00m)) == [\u001b[94m3\u001b[39;49;00m, \u001b[94m2\u001b[39;49;00m, \u001b[94m1\u001b[39;49;00m]\n",
      ">       \u001b[94massert\u001b[39;49;00m \u001b[33m\"\u001b[39;49;00m\u001b[33m\"\u001b[39;49;00m.join(invert(\u001b[33m\"\u001b[39;49;00m\u001b[33mabcdefghijklmnop\u001b[39;49;00m\u001b[33m\"\u001b[39;49;00m)) == \u001b[33m\"\u001b[39;49;00m\u001b[33mponmlkjihg\u001b[39;49;00m\u001b[33m\"\u001b[39;49;00m\n",
      "\u001b[1m\u001b[31mE       AssertionError: assert 'ponmlkjihgfedcba' == 'ponmlkjihg'\u001b[0m\n",
      "\u001b[1m\u001b[31mE         - ponmlkjihg\u001b[0m\n",
      "\u001b[1m\u001b[31mE         + ponmlkjihgfedcba\u001b[0m\n",
      "\u001b[1m\u001b[31mE         ?           ++++++\u001b[0m\n",
      "\n",
      "\u001b[1m\u001b[31mtests/lib/test_utils.py\u001b[0m:7: AssertionError\n",
      "=========================== short test summary info ============================\n",
      "FAILED tests/lib/test_utils.py::test_invert - AssertionError: assert 'ponmlkj...\n",
      "\u001b[31m==================== \u001b[31m\u001b[1m1 failed\u001b[0m, \u001b[32m5 passed\u001b[0m, \u001b[33m3 skipped\u001b[0m\u001b[31m in 0.14s\u001b[0m\u001b[31m ====================\u001b[0m\n"
     ]
    }
   ],
   "source": [
    "!python -m pytest tests"
   ]
  },
  {
   "cell_type": "markdown",
   "id": "943a6d8f-7baa-4d5b-b152-036e0f595290",
   "metadata": {},
   "source": [
    "pytest uses `assert` and clever introspection,\n",
    "no need to learn special functions for making comparisons."
   ]
  },
  {
   "cell_type": "code",
   "execution_count": 4,
   "id": "952ce4c4-4608-41e3-9ecf-48633345583b",
   "metadata": {
    "tags": []
   },
   "outputs": [
    {
     "name": "stdout",
     "output_type": "stream",
     "text": [
      "\u001b[1m============================= test session starts ==============================\u001b[0m\n",
      "platform linux -- Python 3.10.5, pytest-7.1.2, pluggy-1.0.0 -- /opt/conda/bin/python\n",
      "cachedir: .pytest_cache\n",
      "rootdir: /home/jovyan/repo/pycop_pytest/tests, configfile: pytest.ini\n",
      "plugins: forked-1.4.0, cov-3.0.0, xdist-2.5.0, anyio-3.6.1\n",
      "collected 9 items                                                              \u001b[0m\n",
      "\n",
      "tests/lib/test_utils.py::test_invert \u001b[31mFAILED\u001b[0m\u001b[31m                              [ 11%]\u001b[0m\n",
      "tests/lib/test_utils.py::test_summarize_db_size \u001b[32mPASSED\u001b[0m\u001b[31m                   [ 22%]\u001b[0m\n",
      "tests/lib/test_utils.py::test_summarize_db_inversion \u001b[32mPASSED\u001b[0m\u001b[31m              [ 33%]\u001b[0m\n",
      "tests/lib/test_utils_more.py::test_more_invert[[1, 2, 3]] \u001b[32mPASSED\u001b[0m\u001b[31m         [ 44%]\u001b[0m\n",
      "tests/lib/test_utils_more.py::test_more_invert[['a', 'b', 'c']] \u001b[32mPASSED\u001b[0m\u001b[31m   [ 55%]\u001b[0m\n",
      "tests/lib/test_utils_more.py::test_more_invert[['one', 'two', 'three']] \u001b[32mPASSED\u001b[0m\u001b[31m [ 66%]\u001b[0m\n",
      "tests/lib/test_utils_more.py::test_more2_invert[forward0-back0] \u001b[33mSKIPPED\u001b[0m (need --my-extras option to run this test)\u001b[31m [ 77%]\u001b[0m\n",
      "tests/lib/test_utils_more.py::test_more2_invert[forward1-back1] \u001b[33mSKIPPED\u001b[0m (need --my-extras option to run this test)\u001b[31m [ 88%]\u001b[0m\n",
      "tests/lib/test_utils_more.py::test_more2_invert[forward2-back2] \u001b[33mSKIPPED\u001b[0m (need --my-extras option to run this test)\u001b[31m [100%]\u001b[0m\n",
      "\n",
      "=================================== FAILURES ===================================\n",
      "\u001b[31m\u001b[1m_________________________________ test_invert __________________________________\u001b[0m\n",
      "\n",
      "    \u001b[94mdef\u001b[39;49;00m \u001b[92mtest_invert\u001b[39;49;00m():\n",
      "        \u001b[94massert\u001b[39;49;00m invert((\u001b[94m1\u001b[39;49;00m, \u001b[94m2\u001b[39;49;00m, \u001b[94m3\u001b[39;49;00m)) == [\u001b[94m3\u001b[39;49;00m, \u001b[94m2\u001b[39;49;00m, \u001b[94m1\u001b[39;49;00m]\n",
      ">       \u001b[94massert\u001b[39;49;00m \u001b[33m\"\u001b[39;49;00m\u001b[33m\"\u001b[39;49;00m.join(invert(\u001b[33m\"\u001b[39;49;00m\u001b[33mabcdefghijklmnop\u001b[39;49;00m\u001b[33m\"\u001b[39;49;00m)) == \u001b[33m\"\u001b[39;49;00m\u001b[33mponmlkjihg\u001b[39;49;00m\u001b[33m\"\u001b[39;49;00m\n",
      "\u001b[1m\u001b[31mE       AssertionError: assert 'ponmlkjihgfedcba' == 'ponmlkjihg'\u001b[0m\n",
      "\u001b[1m\u001b[31mE         - ponmlkjihg\u001b[0m\n",
      "\u001b[1m\u001b[31mE         + ponmlkjihgfedcba\u001b[0m\n",
      "\u001b[1m\u001b[31mE         ?           ++++++\u001b[0m\n",
      "\n",
      "\u001b[1m\u001b[31mtests/lib/test_utils.py\u001b[0m:7: AssertionError\n",
      "=========================== short test summary info ============================\n",
      "FAILED tests/lib/test_utils.py::test_invert - AssertionError: assert 'ponmlkj...\n",
      "\u001b[31m==================== \u001b[31m\u001b[1m1 failed\u001b[0m, \u001b[32m5 passed\u001b[0m, \u001b[33m3 skipped\u001b[0m\u001b[31m in 0.16s\u001b[0m\u001b[31m ====================\u001b[0m\n"
     ]
    }
   ],
   "source": [
    "!python -m pytest -vv tests # more verbose"
   ]
  },
  {
   "cell_type": "code",
   "execution_count": 5,
   "id": "7117fac4-a41f-439e-ad65-2456f83ba38d",
   "metadata": {
    "tags": []
   },
   "outputs": [
    {
     "name": "stdout",
     "output_type": "stream",
     "text": [
      "\u001b[1m============================= test session starts ==============================\u001b[0m\n",
      "platform linux -- Python 3.10.5, pytest-7.1.2, pluggy-1.0.0 -- /opt/conda/bin/python\n",
      "cachedir: .pytest_cache\n",
      "rootdir: /home/jovyan/repo/pycop_pytest/tests, configfile: pytest.ini\n",
      "plugins: forked-1.4.0, cov-3.0.0, xdist-2.5.0, anyio-3.6.1\n",
      "collected 1 item                                                               \u001b[0m\n",
      "run-last-failure: rerun previous 1 failure (skipped 1 file)\n",
      "\n",
      "tests/lib/test_utils.py::test_invert \u001b[31mFAILED\u001b[0m\u001b[31m                              [100%]\u001b[0m\n",
      "\n",
      "=================================== FAILURES ===================================\n",
      "\u001b[31m\u001b[1m_________________________________ test_invert __________________________________\u001b[0m\n",
      "\n",
      "    \u001b[94mdef\u001b[39;49;00m \u001b[92mtest_invert\u001b[39;49;00m():\n",
      "        \u001b[94massert\u001b[39;49;00m invert((\u001b[94m1\u001b[39;49;00m, \u001b[94m2\u001b[39;49;00m, \u001b[94m3\u001b[39;49;00m)) == [\u001b[94m3\u001b[39;49;00m, \u001b[94m2\u001b[39;49;00m, \u001b[94m1\u001b[39;49;00m]\n",
      ">       \u001b[94massert\u001b[39;49;00m \u001b[33m\"\u001b[39;49;00m\u001b[33m\"\u001b[39;49;00m.join(invert(\u001b[33m\"\u001b[39;49;00m\u001b[33mabcdefghijklmnop\u001b[39;49;00m\u001b[33m\"\u001b[39;49;00m)) == \u001b[33m\"\u001b[39;49;00m\u001b[33mponmlkjihg\u001b[39;49;00m\u001b[33m\"\u001b[39;49;00m\n",
      "\u001b[1m\u001b[31mE       AssertionError: assert 'ponmlkjihgfedcba' == 'ponmlkjihg'\u001b[0m\n",
      "\u001b[1m\u001b[31mE         - ponmlkjihg\u001b[0m\n",
      "\u001b[1m\u001b[31mE         + ponmlkjihgfedcba\u001b[0m\n",
      "\u001b[1m\u001b[31mE         ?           ++++++\u001b[0m\n",
      "\n",
      "\u001b[1m\u001b[31mtests/lib/test_utils.py\u001b[0m:7: AssertionError\n",
      "=========================== short test summary info ============================\n",
      "FAILED tests/lib/test_utils.py::test_invert - AssertionError: assert 'ponmlkj...\n",
      "\u001b[31m============================== \u001b[31m\u001b[1m1 failed\u001b[0m\u001b[31m in 0.11s\u001b[0m\u001b[31m ===============================\u001b[0m\n"
     ]
    }
   ],
   "source": [
    "!python -m pytest -vv --lf tests # just the last failed tests"
   ]
  },
  {
   "cell_type": "markdown",
   "id": "60ab7fde-ef15-4950-9a03-3b875c072fd0",
   "metadata": {},
   "source": [
    "### Selecting tests"
   ]
  },
  {
   "cell_type": "code",
   "execution_count": 6,
   "id": "d96adb31-92e3-44df-873d-bb62fdc88e7d",
   "metadata": {
    "tags": []
   },
   "outputs": [
    {
     "name": "stdout",
     "output_type": "stream",
     "text": [
      "\u001b[1m============================= test session starts ==============================\u001b[0m\n",
      "platform linux -- Python 3.10.5, pytest-7.1.2, pluggy-1.0.0 -- /opt/conda/bin/python\n",
      "cachedir: .pytest_cache\n",
      "rootdir: /home/jovyan/repo/pycop_pytest/tests, configfile: pytest.ini\n",
      "plugins: forked-1.4.0, cov-3.0.0, xdist-2.5.0, anyio-3.6.1\n",
      "collected 9 items / 8 deselected / 1 selected                                  \u001b[0m\n",
      "\n",
      "tests/lib/test_utils.py::test_invert \u001b[31mFAILED\u001b[0m\u001b[31m                              [100%]\u001b[0m\n",
      "\n",
      "=================================== FAILURES ===================================\n",
      "\u001b[31m\u001b[1m_________________________________ test_invert __________________________________\u001b[0m\n",
      "\n",
      "    \u001b[94mdef\u001b[39;49;00m \u001b[92mtest_invert\u001b[39;49;00m():\n",
      "        \u001b[94massert\u001b[39;49;00m invert((\u001b[94m1\u001b[39;49;00m, \u001b[94m2\u001b[39;49;00m, \u001b[94m3\u001b[39;49;00m)) == [\u001b[94m3\u001b[39;49;00m, \u001b[94m2\u001b[39;49;00m, \u001b[94m1\u001b[39;49;00m]\n",
      ">       \u001b[94massert\u001b[39;49;00m \u001b[33m\"\u001b[39;49;00m\u001b[33m\"\u001b[39;49;00m.join(invert(\u001b[33m\"\u001b[39;49;00m\u001b[33mabcdefghijklmnop\u001b[39;49;00m\u001b[33m\"\u001b[39;49;00m)) == \u001b[33m\"\u001b[39;49;00m\u001b[33mponmlkjihg\u001b[39;49;00m\u001b[33m\"\u001b[39;49;00m\n",
      "\u001b[1m\u001b[31mE       AssertionError: assert 'ponmlkjihgfedcba' == 'ponmlkjihg'\u001b[0m\n",
      "\u001b[1m\u001b[31mE         - ponmlkjihg\u001b[0m\n",
      "\u001b[1m\u001b[31mE         + ponmlkjihgfedcba\u001b[0m\n",
      "\u001b[1m\u001b[31mE         ?           ++++++\u001b[0m\n",
      "\n",
      "\u001b[1m\u001b[31mtests/lib/test_utils.py\u001b[0m:7: AssertionError\n",
      "=========================== short test summary info ============================\n",
      "FAILED tests/lib/test_utils.py::test_invert - AssertionError: assert 'ponmlkj...\n",
      "\u001b[31m======================= \u001b[31m\u001b[1m1 failed\u001b[0m, \u001b[33m8 deselected\u001b[0m\u001b[31m in 0.11s\u001b[0m\u001b[31m ========================\u001b[0m\n"
     ]
    }
   ],
   "source": [
    "# select test with 'test_inv' in its name or path\n",
    "!python -m pytest -vv -k test_inv tests"
   ]
  },
  {
   "cell_type": "markdown",
   "id": "c70135ee-3c43-4a06-9f88-4ccc3087e795",
   "metadata": {},
   "source": [
    "### Marking tests\n",
    "\n",
    "Describe marks in `pytest.ini`, mark with decorator.\n",
    "\n",
    "### Selecting tests by mark"
   ]
  },
  {
   "cell_type": "code",
   "execution_count": 7,
   "id": "341bdcbd-1f2b-4cba-91c2-9c9ef69f93bd",
   "metadata": {},
   "outputs": [
    {
     "name": "stdout",
     "output_type": "stream",
     "text": [
      "\u001b[1m============================= test session starts ==============================\u001b[0m\n",
      "platform linux -- Python 3.10.5, pytest-7.1.2, pluggy-1.0.0 -- /opt/conda/bin/python\n",
      "cachedir: .pytest_cache\n",
      "rootdir: /home/jovyan/repo/pycop_pytest/tests, configfile: pytest.ini\n",
      "plugins: forked-1.4.0, cov-3.0.0, xdist-2.5.0, anyio-3.6.1\n",
      "collected 9 items / 8 deselected / 1 selected                                  \u001b[0m\n",
      "\n",
      "tests/lib/test_utils.py::test_summarize_db_inversion \u001b[32mPASSED\u001b[0m\u001b[32m              [100%]\u001b[0m\n",
      "\n",
      "\u001b[32m======================= \u001b[32m\u001b[1m1 passed\u001b[0m, \u001b[33m8 deselected\u001b[0m\u001b[32m in 0.03s\u001b[0m\u001b[32m ========================\u001b[0m\n"
     ]
    }
   ],
   "source": [
    "!python -m pytest -vv -m very_slow tests"
   ]
  },
  {
   "cell_type": "markdown",
   "id": "03ca3db6-69f9-46b0-aff4-b757acdc1419",
   "metadata": {},
   "source": [
    "### Special files\n",
    "\n",
    "`tests/conftest.py` - Used for defining fixtures and advanced set up.\n",
    "\n",
    "`tests/pytest.ini` - used to name markers and set other params.\n",
    "\n",
    "### Fixtures\n",
    "\n",
    "Things useful to multiple tests for reference, data access, etc.\n",
    "Fixtures are available to tests if they fixture's name is given\n",
    "as an argument name for the test function.\n",
    "\n",
    "The last three iterations of temporary files created by pytest\n",
    "are retained in `/tmp` for inspection."
   ]
  },
  {
   "cell_type": "code",
   "execution_count": 8,
   "id": "64fdad8d-abc9-4b62-bb8c-66a19366db96",
   "metadata": {},
   "outputs": [
    {
     "name": "stdout",
     "output_type": "stream",
     "text": [
      "/tmp/pytest-of-jovyan:\n",
      "pytest-0  pytest-1  pytest-2  pytest-current\n",
      "\n",
      "/tmp/pytest-of-jovyan/pytest-0:\n",
      "tmp_data0  tmp_datacurrent\n",
      "\n",
      "/tmp/pytest-of-jovyan/pytest-0/tmp_data0:\n",
      "data.db\n",
      "\n",
      "/tmp/pytest-of-jovyan/pytest-1:\n",
      "tmp_data0  tmp_datacurrent\n",
      "\n",
      "/tmp/pytest-of-jovyan/pytest-1/tmp_data0:\n",
      "data.db\n",
      "\n",
      "/tmp/pytest-of-jovyan/pytest-2:\n",
      "tmp_data0  tmp_datacurrent\n",
      "\n",
      "/tmp/pytest-of-jovyan/pytest-2/tmp_data0:\n",
      "data.db\n"
     ]
    }
   ],
   "source": [
    "!ls -R /tmp/pytest-of-jovyan  # `jovyan` is the username"
   ]
  },
  {
   "cell_type": "markdown",
   "id": "f2ccea66-975d-4025-87dc-80a2af4d28a9",
   "metadata": {},
   "source": [
    "### Parametrize\n",
    "\n",
    "Feed a bunch of different values through a test"
   ]
  },
  {
   "cell_type": "code",
   "execution_count": 9,
   "id": "ed61c69e-4229-4470-969d-5c22643b2b9e",
   "metadata": {
    "tags": []
   },
   "outputs": [
    {
     "name": "stdout",
     "output_type": "stream",
     "text": [
      "\u001b[1m============================= test session starts ==============================\u001b[0m\n",
      "platform linux -- Python 3.10.5, pytest-7.1.2, pluggy-1.0.0 -- /opt/conda/bin/python\n",
      "cachedir: .pytest_cache\n",
      "rootdir: /home/jovyan/repo/pycop_pytest/tests, configfile: pytest.ini\n",
      "plugins: forked-1.4.0, cov-3.0.0, xdist-2.5.0, anyio-3.6.1\n",
      "collected 9 items                                                              \u001b[0m\n",
      "\n",
      "tests/lib/test_utils.py::test_invert \u001b[31mFAILED\u001b[0m\u001b[31m                              [ 11%]\u001b[0m\n",
      "tests/lib/test_utils.py::test_summarize_db_size \u001b[32mPASSED\u001b[0m\u001b[31m                   [ 22%]\u001b[0m\n",
      "tests/lib/test_utils.py::test_summarize_db_inversion \u001b[32mPASSED\u001b[0m\u001b[31m              [ 33%]\u001b[0m\n",
      "tests/lib/test_utils_more.py::test_more_invert[[1, 2, 3]] \u001b[32mPASSED\u001b[0m\u001b[31m         [ 44%]\u001b[0m\n",
      "tests/lib/test_utils_more.py::test_more_invert[['a', 'b', 'c']] \u001b[32mPASSED\u001b[0m\u001b[31m   [ 55%]\u001b[0m\n",
      "tests/lib/test_utils_more.py::test_more_invert[['one', 'two', 'three']] \u001b[32mPASSED\u001b[0m\u001b[31m [ 66%]\u001b[0m\n",
      "tests/lib/test_utils_more.py::test_more2_invert[forward0-back0] \u001b[32mPASSED\u001b[0m\u001b[31m   [ 77%]\u001b[0m\n",
      "tests/lib/test_utils_more.py::test_more2_invert[forward1-back1] \u001b[32mPASSED\u001b[0m\u001b[31m   [ 88%]\u001b[0m\n",
      "tests/lib/test_utils_more.py::test_more2_invert[forward2-back2] \u001b[32mPASSED\u001b[0m\u001b[31m   [100%]\u001b[0m\n",
      "\n",
      "=================================== FAILURES ===================================\n",
      "\u001b[31m\u001b[1m_________________________________ test_invert __________________________________\u001b[0m\n",
      "\n",
      "    \u001b[94mdef\u001b[39;49;00m \u001b[92mtest_invert\u001b[39;49;00m():\n",
      "        \u001b[94massert\u001b[39;49;00m invert((\u001b[94m1\u001b[39;49;00m, \u001b[94m2\u001b[39;49;00m, \u001b[94m3\u001b[39;49;00m)) == [\u001b[94m3\u001b[39;49;00m, \u001b[94m2\u001b[39;49;00m, \u001b[94m1\u001b[39;49;00m]\n",
      ">       \u001b[94massert\u001b[39;49;00m \u001b[33m\"\u001b[39;49;00m\u001b[33m\"\u001b[39;49;00m.join(invert(\u001b[33m\"\u001b[39;49;00m\u001b[33mabcdefghijklmnop\u001b[39;49;00m\u001b[33m\"\u001b[39;49;00m)) == \u001b[33m\"\u001b[39;49;00m\u001b[33mponmlkjihg\u001b[39;49;00m\u001b[33m\"\u001b[39;49;00m\n",
      "\u001b[1m\u001b[31mE       AssertionError: assert 'ponmlkjihgfedcba' == 'ponmlkjihg'\u001b[0m\n",
      "\u001b[1m\u001b[31mE         - ponmlkjihg\u001b[0m\n",
      "\u001b[1m\u001b[31mE         + ponmlkjihgfedcba\u001b[0m\n",
      "\u001b[1m\u001b[31mE         ?           ++++++\u001b[0m\n",
      "\n",
      "\u001b[1m\u001b[31mtests/lib/test_utils.py\u001b[0m:7: AssertionError\n",
      "=========================== short test summary info ============================\n",
      "FAILED tests/lib/test_utils.py::test_invert - AssertionError: assert 'ponmlkj...\n",
      "\u001b[31m========================= \u001b[31m\u001b[1m1 failed\u001b[0m, \u001b[32m8 passed\u001b[0m\u001b[31m in 0.18s\u001b[0m\u001b[31m ==========================\u001b[0m\n"
     ]
    }
   ],
   "source": [
    "# run tests marked `extras`, note obscure param. descriptions\n",
    "!python -m pytest -vv --my-extras tests"
   ]
  },
  {
   "cell_type": "markdown",
   "id": "605c0d6f-7e13-47d4-bdd5-9a4cdb53a4dc",
   "metadata": {},
   "source": [
    "### Test coverage, is all the code being tested?"
   ]
  },
  {
   "cell_type": "code",
   "execution_count": 10,
   "id": "f58fe642-af79-46e7-add7-57062edfec45",
   "metadata": {},
   "outputs": [
    {
     "name": "stdout",
     "output_type": "stream",
     "text": [
      "\u001b[1m============================= test session starts ==============================\u001b[0m\n",
      "platform linux -- Python 3.10.5, pytest-7.1.2, pluggy-1.0.0\n",
      "rootdir: /home/jovyan/repo/pycop_pytest/tests, configfile: pytest.ini\n",
      "plugins: forked-1.4.0, cov-3.0.0, xdist-2.5.0, anyio-3.6.1\n",
      "collected 9 items                                                              \u001b[0m\n",
      "\n",
      "tests/lib/test_utils.py \u001b[31mF\u001b[0m\u001b[32m.\u001b[0m\u001b[32m.\u001b[0m\u001b[31m                                              [ 33%]\u001b[0m\n",
      "tests/lib/test_utils_more.py \u001b[32m.\u001b[0m\u001b[32m.\u001b[0m\u001b[32m.\u001b[0m\u001b[33ms\u001b[0m\u001b[33ms\u001b[0m\u001b[33ms\u001b[0m\u001b[31m                                      [100%]\u001b[0m\n",
      "\n",
      "=================================== FAILURES ===================================\n",
      "\u001b[31m\u001b[1m_________________________________ test_invert __________________________________\u001b[0m\n",
      "\n",
      "    \u001b[94mdef\u001b[39;49;00m \u001b[92mtest_invert\u001b[39;49;00m():\n",
      "        \u001b[94massert\u001b[39;49;00m invert((\u001b[94m1\u001b[39;49;00m, \u001b[94m2\u001b[39;49;00m, \u001b[94m3\u001b[39;49;00m)) == [\u001b[94m3\u001b[39;49;00m, \u001b[94m2\u001b[39;49;00m, \u001b[94m1\u001b[39;49;00m]\n",
      ">       \u001b[94massert\u001b[39;49;00m \u001b[33m\"\u001b[39;49;00m\u001b[33m\"\u001b[39;49;00m.join(invert(\u001b[33m\"\u001b[39;49;00m\u001b[33mabcdefghijklmnop\u001b[39;49;00m\u001b[33m\"\u001b[39;49;00m)) == \u001b[33m\"\u001b[39;49;00m\u001b[33mponmlkjihg\u001b[39;49;00m\u001b[33m\"\u001b[39;49;00m\n",
      "\u001b[1m\u001b[31mE       AssertionError: assert 'ponmlkjihgfedcba' == 'ponmlkjihg'\u001b[0m\n",
      "\u001b[1m\u001b[31mE         - ponmlkjihg\u001b[0m\n",
      "\u001b[1m\u001b[31mE         + ponmlkjihgfedcba\u001b[0m\n",
      "\u001b[1m\u001b[31mE         ?           ++++++\u001b[0m\n",
      "\n",
      "\u001b[1m\u001b[31mtests/lib/test_utils.py\u001b[0m:7: AssertionError\n",
      "\n",
      "---------- coverage: platform linux, python 3.10.5-final-0 -----------\n",
      "Coverage HTML written to dir htmlcov\n",
      "\n",
      "=========================== short test summary info ============================\n",
      "FAILED tests/lib/test_utils.py::test_invert - AssertionError: assert 'ponmlkj...\n",
      "\u001b[31m==================== \u001b[31m\u001b[1m1 failed\u001b[0m, \u001b[32m5 passed\u001b[0m, \u001b[33m3 skipped\u001b[0m\u001b[31m in 0.31s\u001b[0m\u001b[31m ====================\u001b[0m\n"
     ]
    }
   ],
   "source": [
    "!python -m pytest --cov=mything --cov-report html tests"
   ]
  },
  {
   "cell_type": "markdown",
   "id": "048777e8-b538-4452-b9e4-6f8148b297e2",
   "metadata": {},
   "source": [
    "### Running tests in parallel\n",
    "\n",
    "pytest-parallel plug-in is one option, but [pytest-xdist](https://pytest-xdist.readthedocs.io/en/latest/index.html) is more flexible.\n",
    "See docs. for controlling processes (for CPU intensive test) vs.\n",
    "threads, for tests that spend time waiting for DB queries and other\n",
    "input / output (I/O) delays."
   ]
  },
  {
   "cell_type": "code",
   "execution_count": 11,
   "id": "1c55f388-0131-4b78-bc19-64e749af1e68",
   "metadata": {},
   "outputs": [
    {
     "name": "stdout",
     "output_type": "stream",
     "text": [
      "\u001b[1m============================= test session starts ==============================\u001b[0m\n",
      "platform linux -- Python 3.10.5, pytest-7.1.2, pluggy-1.0.0 -- /opt/conda/bin/python\n",
      "cachedir: .pytest_cache\n",
      "rootdir: /home/jovyan/repo/pycop_pytest/tests, configfile: pytest.ini\n",
      "plugins: forked-1.4.0, cov-3.0.0, xdist-2.5.0, anyio-3.6.1\n",
      "[gw0] linux Python 3.10.5 cwd: /home/jovyan/repo/pycop_pytest\n",
      "[gw1] linux Python 3.10.5 cwd: /home/jovyan/repo/pycop_pytest\n",
      "[gw0] Python 3.10.5 | packaged by conda-forge | (main, Jun 14 2022, 07:04:59) [GCC 10.3.0]\n",
      "[gw1] Python 3.10.5 | packaged by conda-forge | (main, Jun 14 2022, 07:04:59) [GCC 10.3.0]\n",
      "gw0 [9] / gw1 [9]\u001b[0m[1m\n",
      "scheduling tests via LoadScheduling\n",
      "\n",
      "tests/lib/test_utils.py::test_invert \n",
      "tests/lib/test_utils.py::test_summarize_db_size \n",
      "[gw1]\u001b[36m [ 11%] \u001b[0m\u001b[32mPASSED\u001b[0m tests/lib/test_utils.py::test_summarize_db_size \n",
      "tests/lib/test_utils_more.py::test_more_invert[[1, 2, 3]] \n",
      "[gw1]\u001b[36m [ 22%] \u001b[0m\u001b[32mPASSED\u001b[0m tests/lib/test_utils_more.py::test_more_invert[[1, 2, 3]] \n",
      "tests/lib/test_utils_more.py::test_more_invert[['a', 'b', 'c']] \n",
      "[gw1]\u001b[36m [ 33%] \u001b[0m\u001b[32mPASSED\u001b[0m tests/lib/test_utils_more.py::test_more_invert[['a', 'b', 'c']] \n",
      "tests/lib/test_utils_more.py::test_more_invert[['one', 'two', 'three']] \n",
      "[gw1]\u001b[36m [ 44%] \u001b[0m\u001b[32mPASSED\u001b[0m tests/lib/test_utils_more.py::test_more_invert[['one', 'two', 'three']] \n",
      "tests/lib/test_utils_more.py::test_more2_invert[forward0-back0] \n",
      "[gw1]\u001b[36m [ 55%] \u001b[0m\u001b[33mSKIPPED\u001b[0m tests/lib/test_utils_more.py::test_more2_invert[forward0-back0] \n",
      "tests/lib/test_utils_more.py::test_more2_invert[forward1-back1] \n",
      "[gw1]\u001b[36m [ 66%] \u001b[0m\u001b[33mSKIPPED\u001b[0m tests/lib/test_utils_more.py::test_more2_invert[forward1-back1] \n",
      "tests/lib/test_utils_more.py::test_more2_invert[forward2-back2] \n",
      "[gw1]\u001b[36m [ 77%] \u001b[0m\u001b[33mSKIPPED\u001b[0m tests/lib/test_utils_more.py::test_more2_invert[forward2-back2] \n",
      "[gw0]\u001b[36m [ 88%] \u001b[0m\u001b[31mFAILED\u001b[0m tests/lib/test_utils.py::test_invert \n",
      "tests/lib/test_utils.py::test_summarize_db_inversion \n",
      "[gw0]\u001b[36m [100%] \u001b[0m\u001b[32mPASSED\u001b[0m tests/lib/test_utils.py::test_summarize_db_inversion \n",
      "\n",
      "=================================== FAILURES ===================================\n",
      "\u001b[31m\u001b[1m_________________________________ test_invert __________________________________\u001b[0m\n",
      "[gw0] linux -- Python 3.10.5 /opt/conda/bin/python\n",
      "\n",
      "    \u001b[94mdef\u001b[39;49;00m \u001b[92mtest_invert\u001b[39;49;00m():\n",
      "        \u001b[94massert\u001b[39;49;00m invert((\u001b[94m1\u001b[39;49;00m, \u001b[94m2\u001b[39;49;00m, \u001b[94m3\u001b[39;49;00m)) == [\u001b[94m3\u001b[39;49;00m, \u001b[94m2\u001b[39;49;00m, \u001b[94m1\u001b[39;49;00m]\n",
      ">       \u001b[94massert\u001b[39;49;00m \u001b[33m\"\u001b[39;49;00m\u001b[33m\"\u001b[39;49;00m.join(invert(\u001b[33m\"\u001b[39;49;00m\u001b[33mabcdefghijklmnop\u001b[39;49;00m\u001b[33m\"\u001b[39;49;00m)) == \u001b[33m\"\u001b[39;49;00m\u001b[33mponmlkjihg\u001b[39;49;00m\u001b[33m\"\u001b[39;49;00m\n",
      "\u001b[1m\u001b[31mE       AssertionError: assert 'ponmlkjihgfedcba' == 'ponmlkjihg'\u001b[0m\n",
      "\u001b[1m\u001b[31mE         - ponmlkjihg\u001b[0m\n",
      "\u001b[1m\u001b[31mE         + ponmlkjihgfedcba\u001b[0m\n",
      "\u001b[1m\u001b[31mE         ?           ++++++\u001b[0m\n",
      "\n",
      "\u001b[1m\u001b[31mtests/lib/test_utils.py\u001b[0m:7: AssertionError\n",
      "=========================== short test summary info ============================\n",
      "FAILED tests/lib/test_utils.py::test_invert - AssertionError: assert 'ponmlkj...\n",
      "\u001b[31m==================== \u001b[31m\u001b[1m1 failed\u001b[0m, \u001b[32m5 passed\u001b[0m, \u001b[33m3 skipped\u001b[0m\u001b[31m in 0.77s\u001b[0m\u001b[31m ====================\u001b[0m\n"
     ]
    }
   ],
   "source": [
    "!python -m pytest -vv -n 2 tests"
   ]
  }
 ],
 "metadata": {
  "kernelspec": {
   "display_name": "Python 3 (ipykernel)",
   "language": "python",
   "name": "python3"
  },
  "language_info": {
   "codemirror_mode": {
    "name": "ipython",
    "version": 3
   },
   "file_extension": ".py",
   "mimetype": "text/x-python",
   "name": "python",
   "nbconvert_exporter": "python",
   "pygments_lexer": "ipython3",
   "version": "3.10.5"
  }
 },
 "nbformat": 4,
 "nbformat_minor": 5
}
